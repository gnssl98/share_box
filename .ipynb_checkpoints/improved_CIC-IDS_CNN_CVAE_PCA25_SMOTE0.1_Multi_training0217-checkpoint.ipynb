{
 "cells": [
  {
   "cell_type": "code",
   "execution_count": 1,
   "id": "9d6359a2",
   "metadata": {},
   "outputs": [
    {
     "name": "stderr",
     "output_type": "stream",
     "text": [
      "C:\\Users\\gnssl\\anaconda3\\envs\\myvenv\\lib\\site-packages\\scipy\\__init__.py:146: UserWarning: A NumPy version >=1.16.5 and <1.23.0 is required for this version of SciPy (detected version 1.23.5\n",
      "  warnings.warn(f\"A NumPy version >={np_minversion} and <{np_maxversion}\"\n"
     ]
    }
   ],
   "source": [
    "import pandas as pd\n",
    "import numpy as np\n",
    "import pickle\n",
    "import matplotlib.pyplot as plt\n",
    "from scipy import stats\n",
    "import tensorflow as tf\n",
    "import seaborn as sns\n",
    "from pylab import rcParams\n",
    "from sklearn.model_selection import train_test_split\n",
    "from keras.models import Model, load_model\n",
    "from keras.layers import Input, Dense\n",
    "from keras.callbacks import ModelCheckpoint, TensorBoard\n",
    "from keras import regularizers"
   ]
  },
  {
   "cell_type": "code",
   "execution_count": 2,
   "id": "f3700cab",
   "metadata": {},
   "outputs": [],
   "source": [
    "from tensorflow.keras.models import Model, load_model\n",
    "from tensorflow.keras.layers import Lambda, Input, Dense\n",
    "from tensorflow.keras.losses import mse, binary_crossentropy, kl_divergence\n",
    "from tensorflow.keras import optimizers\n",
    "from tensorflow.keras import backend as K\n",
    "\n",
    "from sklearn.model_selection import train_test_split\n",
    "from sklearn.preprocessing import MinMaxScaler, StandardScaler, PowerTransformer\n",
    "\n",
    "import seaborn as sns\n",
    "import matplotlib.pyplot as plt\n",
    "from sklearn.linear_model import LogisticRegression\n",
    "from sklearn.tree import DecisionTreeClassifier\n",
    "from sklearn.neighbors import KNeighborsClassifier\n",
    "from sklearn.model_selection import train_test_split\n",
    "from sklearn.metrics import accuracy_score\n",
    "from sklearn.model_selection import cross_val_score\n",
    "from sklearn.preprocessing import OneHotEncoder\n",
    "from sklearn.preprocessing import scale\n",
    "\n",
    "\n",
    "import numpy as np\n",
    "import pandas as pd"
   ]
  },
  {
   "cell_type": "code",
   "execution_count": 3,
   "id": "415e75dc",
   "metadata": {},
   "outputs": [],
   "source": [
    "df = pd.read_csv(\"./cic_ids_smote03_pca25.csv\")\n",
    "#df = pd.read_csv(\"/Users/anchanghun/Downloads/CIC-Dataset/cleaned_improved_cicids2017.csv\")"
   ]
  },
  {
   "cell_type": "code",
   "execution_count": 4,
   "id": "a5b5cf1b",
   "metadata": {},
   "outputs": [
    {
     "data": {
      "text/html": [
       "<div>\n",
       "<style scoped>\n",
       "    .dataframe tbody tr th:only-of-type {\n",
       "        vertical-align: middle;\n",
       "    }\n",
       "\n",
       "    .dataframe tbody tr th {\n",
       "        vertical-align: top;\n",
       "    }\n",
       "\n",
       "    .dataframe thead th {\n",
       "        text-align: right;\n",
       "    }\n",
       "</style>\n",
       "<table border=\"1\" class=\"dataframe\">\n",
       "  <thead>\n",
       "    <tr style=\"text-align: right;\">\n",
       "      <th></th>\n",
       "      <th>PC1</th>\n",
       "      <th>PC2</th>\n",
       "      <th>PC3</th>\n",
       "      <th>PC4</th>\n",
       "      <th>PC5</th>\n",
       "      <th>PC6</th>\n",
       "      <th>PC7</th>\n",
       "      <th>PC8</th>\n",
       "      <th>PC9</th>\n",
       "      <th>PC10</th>\n",
       "      <th>...</th>\n",
       "      <th>PC17</th>\n",
       "      <th>PC18</th>\n",
       "      <th>PC19</th>\n",
       "      <th>PC20</th>\n",
       "      <th>PC21</th>\n",
       "      <th>PC22</th>\n",
       "      <th>PC23</th>\n",
       "      <th>PC24</th>\n",
       "      <th>PC25</th>\n",
       "      <th>label</th>\n",
       "    </tr>\n",
       "  </thead>\n",
       "  <tbody>\n",
       "    <tr>\n",
       "      <th>0</th>\n",
       "      <td>3.755787</td>\n",
       "      <td>-1.071812</td>\n",
       "      <td>2.930933</td>\n",
       "      <td>-2.446960</td>\n",
       "      <td>3.825755</td>\n",
       "      <td>-6.790677</td>\n",
       "      <td>-9.097402</td>\n",
       "      <td>3.715448</td>\n",
       "      <td>-1.080617</td>\n",
       "      <td>0.002021</td>\n",
       "      <td>...</td>\n",
       "      <td>-2.334503</td>\n",
       "      <td>-1.591972</td>\n",
       "      <td>-0.751660</td>\n",
       "      <td>-0.430237</td>\n",
       "      <td>-0.189769</td>\n",
       "      <td>0.992952</td>\n",
       "      <td>-3.140185</td>\n",
       "      <td>3.106113</td>\n",
       "      <td>-0.005396</td>\n",
       "      <td>0</td>\n",
       "    </tr>\n",
       "    <tr>\n",
       "      <th>1</th>\n",
       "      <td>4.255976</td>\n",
       "      <td>-3.447895</td>\n",
       "      <td>-2.044386</td>\n",
       "      <td>0.607399</td>\n",
       "      <td>1.420579</td>\n",
       "      <td>0.635792</td>\n",
       "      <td>-1.034094</td>\n",
       "      <td>-1.987434</td>\n",
       "      <td>-2.420484</td>\n",
       "      <td>0.016586</td>\n",
       "      <td>...</td>\n",
       "      <td>0.399538</td>\n",
       "      <td>0.307386</td>\n",
       "      <td>0.392462</td>\n",
       "      <td>0.045101</td>\n",
       "      <td>0.053932</td>\n",
       "      <td>-0.531625</td>\n",
       "      <td>0.367233</td>\n",
       "      <td>-0.001627</td>\n",
       "      <td>0.483978</td>\n",
       "      <td>0</td>\n",
       "    </tr>\n",
       "    <tr>\n",
       "      <th>2</th>\n",
       "      <td>7.099579</td>\n",
       "      <td>-0.328671</td>\n",
       "      <td>15.021956</td>\n",
       "      <td>-4.085954</td>\n",
       "      <td>4.485459</td>\n",
       "      <td>-6.750818</td>\n",
       "      <td>-1.245696</td>\n",
       "      <td>12.284609</td>\n",
       "      <td>-12.470846</td>\n",
       "      <td>0.073562</td>\n",
       "      <td>...</td>\n",
       "      <td>-4.114029</td>\n",
       "      <td>2.403140</td>\n",
       "      <td>14.790264</td>\n",
       "      <td>-0.072217</td>\n",
       "      <td>-5.309932</td>\n",
       "      <td>-2.786611</td>\n",
       "      <td>9.262720</td>\n",
       "      <td>5.324074</td>\n",
       "      <td>-3.618367</td>\n",
       "      <td>0</td>\n",
       "    </tr>\n",
       "    <tr>\n",
       "      <th>3</th>\n",
       "      <td>5.499027</td>\n",
       "      <td>-2.232074</td>\n",
       "      <td>0.323932</td>\n",
       "      <td>-0.687445</td>\n",
       "      <td>3.269052</td>\n",
       "      <td>-1.383862</td>\n",
       "      <td>-6.764744</td>\n",
       "      <td>0.350936</td>\n",
       "      <td>-4.496568</td>\n",
       "      <td>0.037441</td>\n",
       "      <td>...</td>\n",
       "      <td>4.034838</td>\n",
       "      <td>2.231003</td>\n",
       "      <td>-0.575002</td>\n",
       "      <td>0.090285</td>\n",
       "      <td>1.567744</td>\n",
       "      <td>0.082298</td>\n",
       "      <td>-0.482082</td>\n",
       "      <td>1.259168</td>\n",
       "      <td>1.329641</td>\n",
       "      <td>0</td>\n",
       "    </tr>\n",
       "    <tr>\n",
       "      <th>4</th>\n",
       "      <td>5.595111</td>\n",
       "      <td>-2.244346</td>\n",
       "      <td>0.295866</td>\n",
       "      <td>-0.677989</td>\n",
       "      <td>3.272865</td>\n",
       "      <td>-1.382852</td>\n",
       "      <td>-6.767350</td>\n",
       "      <td>0.317522</td>\n",
       "      <td>-4.523027</td>\n",
       "      <td>0.037608</td>\n",
       "      <td>...</td>\n",
       "      <td>4.032456</td>\n",
       "      <td>2.232305</td>\n",
       "      <td>-0.571224</td>\n",
       "      <td>0.090600</td>\n",
       "      <td>1.565802</td>\n",
       "      <td>0.073913</td>\n",
       "      <td>-0.477891</td>\n",
       "      <td>1.255216</td>\n",
       "      <td>1.337643</td>\n",
       "      <td>0</td>\n",
       "    </tr>\n",
       "  </tbody>\n",
       "</table>\n",
       "<p>5 rows × 26 columns</p>\n",
       "</div>"
      ],
      "text/plain": [
       "        PC1       PC2        PC3       PC4       PC5       PC6       PC7  \\\n",
       "0  3.755787 -1.071812   2.930933 -2.446960  3.825755 -6.790677 -9.097402   \n",
       "1  4.255976 -3.447895  -2.044386  0.607399  1.420579  0.635792 -1.034094   \n",
       "2  7.099579 -0.328671  15.021956 -4.085954  4.485459 -6.750818 -1.245696   \n",
       "3  5.499027 -2.232074   0.323932 -0.687445  3.269052 -1.383862 -6.764744   \n",
       "4  5.595111 -2.244346   0.295866 -0.677989  3.272865 -1.382852 -6.767350   \n",
       "\n",
       "         PC8        PC9      PC10  ...      PC17      PC18       PC19  \\\n",
       "0   3.715448  -1.080617  0.002021  ... -2.334503 -1.591972  -0.751660   \n",
       "1  -1.987434  -2.420484  0.016586  ...  0.399538  0.307386   0.392462   \n",
       "2  12.284609 -12.470846  0.073562  ... -4.114029  2.403140  14.790264   \n",
       "3   0.350936  -4.496568  0.037441  ...  4.034838  2.231003  -0.575002   \n",
       "4   0.317522  -4.523027  0.037608  ...  4.032456  2.232305  -0.571224   \n",
       "\n",
       "       PC20      PC21      PC22      PC23      PC24      PC25  label  \n",
       "0 -0.430237 -0.189769  0.992952 -3.140185  3.106113 -0.005396      0  \n",
       "1  0.045101  0.053932 -0.531625  0.367233 -0.001627  0.483978      0  \n",
       "2 -0.072217 -5.309932 -2.786611  9.262720  5.324074 -3.618367      0  \n",
       "3  0.090285  1.567744  0.082298 -0.482082  1.259168  1.329641      0  \n",
       "4  0.090600  1.565802  0.073913 -0.477891  1.255216  1.337643      0  \n",
       "\n",
       "[5 rows x 26 columns]"
      ]
     },
     "execution_count": 4,
     "metadata": {},
     "output_type": "execute_result"
    }
   ],
   "source": [
    "df.head()"
   ]
  },
  {
   "cell_type": "code",
   "execution_count": 5,
   "id": "6288929f",
   "metadata": {
    "scrolled": true
   },
   "outputs": [
    {
     "data": {
      "text/plain": [
       "label\n",
       "0    1594540\n",
       "6     159454\n",
       "8     159454\n",
       "5     159454\n",
       "4     159454\n",
       "3     159454\n",
       "2     159454\n",
       "7     159454\n",
       "1     159454\n",
       "Name: count, dtype: int64"
      ]
     },
     "execution_count": 5,
     "metadata": {},
     "output_type": "execute_result"
    }
   ],
   "source": [
    "df['label'].value_counts()"
   ]
  },
  {
   "cell_type": "code",
   "execution_count": 6,
   "id": "26ca4dc3",
   "metadata": {},
   "outputs": [
    {
     "data": {
      "text/plain": [
       "26"
      ]
     },
     "execution_count": 6,
     "metadata": {},
     "output_type": "execute_result"
    }
   ],
   "source": [
    "len(df.columns)"
   ]
  },
  {
   "cell_type": "code",
   "execution_count": 7,
   "id": "80c72dd5",
   "metadata": {},
   "outputs": [
    {
     "data": {
      "text/plain": [
       "((2583154, 26), (287018, 26))"
      ]
     },
     "execution_count": 7,
     "metadata": {},
     "output_type": "execute_result"
    }
   ],
   "source": [
    "from sklearn.model_selection import train_test_split\n",
    "\n",
    "X_train, X_test = train_test_split(df, test_size=0.1, random_state=42)\n",
    "X_train.shape, X_test.shape"
   ]
  },
  {
   "cell_type": "code",
   "execution_count": 8,
   "id": "f49293d5",
   "metadata": {},
   "outputs": [],
   "source": [
    "y_train = X_train['label']\n",
    "X_train = X_train.drop(labels='label',axis=1)"
   ]
  },
  {
   "cell_type": "code",
   "execution_count": 9,
   "id": "137f2d98-52bb-4aa1-8ed6-9f006f75540b",
   "metadata": {},
   "outputs": [
    {
     "data": {
      "text/plain": [
       "(287018, 26)"
      ]
     },
     "execution_count": 9,
     "metadata": {},
     "output_type": "execute_result"
    }
   ],
   "source": [
    "X_test.shape"
   ]
  },
  {
   "cell_type": "code",
   "execution_count": 10,
   "id": "4af141de-1956-41a7-a800-d472d51a9c72",
   "metadata": {},
   "outputs": [],
   "source": [
    "y_test = X_test['label']\n",
    "X_test = X_test.drop(labels='label',axis=1)"
   ]
  },
  {
   "cell_type": "code",
   "execution_count": 11,
   "id": "417d89f9",
   "metadata": {},
   "outputs": [],
   "source": [
    "import tensorflow as tf\n",
    "from tensorflow.keras import optimizers\n",
    "from tensorflow.keras.models import Model\n",
    "from tensorflow.keras.layers import Input, Dense, Dropout\n",
    "from tensorflow.keras.utils import plot_model\n",
    "import tensorflow as tf\n",
    "from keras.layers import Input, Dropout, Dense, LSTM, TimeDistributed, RepeatVector, Conv1D, Conv1DTranspose\n",
    "from keras.models import Model\n",
    "from keras import regularizers\n",
    "from keras_self_attention import SeqWeightedAttention, SeqSelfAttention\n",
    "from keras.callbacks import EarlyStopping"
   ]
  },
  {
   "cell_type": "code",
   "execution_count": 12,
   "id": "9d65d3e8",
   "metadata": {},
   "outputs": [
    {
     "name": "stdout",
     "output_type": "stream",
     "text": [
      "Epoch 1/50\n",
      "72652/72652 [==============================] - 339s 5ms/step - loss: 2.5369 - ReconstructedOutput_accuracy: 0.8868 - ClassificationOutput_accuracy: 0.9992 - val_loss: 2.1734 - val_ReconstructedOutput_accuracy: 0.9291 - val_ClassificationOutput_accuracy: 1.0000\n",
      "Epoch 2/50\n",
      "72652/72652 [==============================] - 328s 5ms/step - loss: 2.5136 - ReconstructedOutput_accuracy: 0.9218 - ClassificationOutput_accuracy: 1.0000 - val_loss: 2.1724 - val_ReconstructedOutput_accuracy: 0.9121 - val_ClassificationOutput_accuracy: 1.0000\n",
      "Epoch 3/50\n",
      "72652/72652 [==============================] - 330s 5ms/step - loss: 2.5130 - ReconstructedOutput_accuracy: 0.9128 - ClassificationOutput_accuracy: 1.0000 - val_loss: 2.1729 - val_ReconstructedOutput_accuracy: 0.9122 - val_ClassificationOutput_accuracy: 1.0000\n",
      "Epoch 4/50\n",
      "72652/72652 [==============================] - 331s 5ms/step - loss: 2.5126 - ReconstructedOutput_accuracy: 0.9198 - ClassificationOutput_accuracy: 1.0000 - val_loss: 2.1724 - val_ReconstructedOutput_accuracy: 0.9220 - val_ClassificationOutput_accuracy: 1.0000\n",
      "Epoch 5/50\n",
      "72652/72652 [==============================] - 324s 4ms/step - loss: 2.5126 - ReconstructedOutput_accuracy: 0.9185 - ClassificationOutput_accuracy: 1.0000 - val_loss: 2.1723 - val_ReconstructedOutput_accuracy: 0.9180 - val_ClassificationOutput_accuracy: 1.0000\n",
      "Epoch 6/50\n",
      "72652/72652 [==============================] - 326s 4ms/step - loss: 2.5123 - ReconstructedOutput_accuracy: 0.9184 - ClassificationOutput_accuracy: 1.0000 - val_loss: 2.1725 - val_ReconstructedOutput_accuracy: 0.9112 - val_ClassificationOutput_accuracy: 1.0000\n",
      "Epoch 7/50\n",
      "72652/72652 [==============================] - 326s 4ms/step - loss: 2.5122 - ReconstructedOutput_accuracy: 0.9131 - ClassificationOutput_accuracy: 1.0000 - val_loss: 2.1718 - val_ReconstructedOutput_accuracy: 0.9137 - val_ClassificationOutput_accuracy: 1.0000\n",
      "Epoch 8/50\n",
      "72652/72652 [==============================] - 323s 4ms/step - loss: 2.5123 - ReconstructedOutput_accuracy: 0.9119 - ClassificationOutput_accuracy: 1.0000 - val_loss: 2.1718 - val_ReconstructedOutput_accuracy: 0.9096 - val_ClassificationOutput_accuracy: 1.0000\n",
      "Epoch 9/50\n",
      "72652/72652 [==============================] - 325s 4ms/step - loss: 2.5120 - ReconstructedOutput_accuracy: 0.9112 - ClassificationOutput_accuracy: 1.0000 - val_loss: 2.1717 - val_ReconstructedOutput_accuracy: 0.9122 - val_ClassificationOutput_accuracy: 1.0000\n",
      "Epoch 10/50\n",
      "72652/72652 [==============================] - 326s 4ms/step - loss: 2.5123 - ReconstructedOutput_accuracy: 0.9095 - ClassificationOutput_accuracy: 1.0000 - val_loss: 2.1716 - val_ReconstructedOutput_accuracy: 0.9134 - val_ClassificationOutput_accuracy: 1.0000\n",
      "Epoch 11/50\n",
      "72652/72652 [==============================] - 329s 5ms/step - loss: 2.5120 - ReconstructedOutput_accuracy: 0.9071 - ClassificationOutput_accuracy: 1.0000 - val_loss: 2.1721 - val_ReconstructedOutput_accuracy: 0.9013 - val_ClassificationOutput_accuracy: 1.0000\n",
      "Epoch 12/50\n",
      "72652/72652 [==============================] - 329s 5ms/step - loss: 2.5120 - ReconstructedOutput_accuracy: 0.9054 - ClassificationOutput_accuracy: 1.0000 - val_loss: 2.1720 - val_ReconstructedOutput_accuracy: 0.9073 - val_ClassificationOutput_accuracy: 1.0000\n",
      "Epoch 13/50\n",
      "72652/72652 [==============================] - 327s 5ms/step - loss: 2.5120 - ReconstructedOutput_accuracy: 0.9044 - ClassificationOutput_accuracy: 1.0000 - val_loss: 2.1733 - val_ReconstructedOutput_accuracy: 0.8954 - val_ClassificationOutput_accuracy: 1.0000\n",
      "Epoch 14/50\n",
      "72652/72652 [==============================] - 327s 5ms/step - loss: 2.5121 - ReconstructedOutput_accuracy: 0.9071 - ClassificationOutput_accuracy: 1.0000 - val_loss: 2.1718 - val_ReconstructedOutput_accuracy: 0.9058 - val_ClassificationOutput_accuracy: 1.0000\n",
      "Epoch 15/50\n",
      "72652/72652 [==============================] - 327s 5ms/step - loss: 2.5121 - ReconstructedOutput_accuracy: 0.9063 - ClassificationOutput_accuracy: 1.0000 - val_loss: 2.1717 - val_ReconstructedOutput_accuracy: 0.9056 - val_ClassificationOutput_accuracy: 1.0000\n"
     ]
    }
   ],
   "source": [
    "import tensorflow as tf\n",
    "from tensorflow.keras import layers, losses, Model, Input\n",
    "import numpy as np\n",
    "from tensorflow.keras import backend as K\n",
    "\n",
    "# ✅ 클래스 개수 (정상 + 공격 유형 개수)\n",
    "num_classes = 9  # 정상(1) + 8개 공격\n",
    "\n",
    "# ✅ 잠재 차원 및 중간 차원 설정\n",
    "latent_dim = 10\n",
    "inter_dim = 20\n",
    "\n",
    "# ✅ 샘플링 함수 (재매개변수화 트릭 사용)\n",
    "def sampling(args):\n",
    "    z_mean, z_log_sigma = args\n",
    "    batch_size = tf.shape(z_mean)[0]\n",
    "    epsilon = K.random_normal(shape=(batch_size, latent_dim), mean=0., stddev=1.)\n",
    "    return z_mean + K.exp(0.5 * K.clip(z_log_sigma, -10, 10)) * epsilon\n",
    "\n",
    "# ✅ CVAE 손실 함수 (Gaussian MLP & Bernoulli MLP 반영)\n",
    "def cvae_loss(x, x_decoded_mean, z_mean, z_log_sigma, y_true, y_pred):\n",
    "    # Reconstruction Loss (Gaussian MLP 적용)\n",
    "    reconstruction_loss = K.mean(K.square(x - x_decoded_mean) + 1e-10)  # NaN 방지\n",
    "    \n",
    "    # KL Divergence (잠재 공간 학습 - Gaussian MLP)\n",
    "    kl_loss = -0.5 * K.sum(1 + K.clip(z_log_sigma, -10, 10) - K.square(z_mean) - K.exp(K.clip(z_log_sigma, -10, 10)), axis=-1)\n",
    "    kl_loss_weighted = kl_loss * 0.0001  # KL 손실 가중치 적용\n",
    "\n",
    "    # Classification Loss (Bernoulli MLP 적용)\n",
    "    classification_loss = tf.keras.losses.categorical_crossentropy(y_true, y_pred)  # 다중 분류\n",
    "    \n",
    "    # 총 손실 (Gaussian + Bernoulli)\n",
    "    total_loss = K.mean(reconstruction_loss + kl_loss_weighted + classification_loss)\n",
    "    return total_loss\n",
    "\n",
    "# ✅ CVAE 모델 정의 (Gaussian MLP + Bernoulli MLP)\n",
    "def cvae(X, y):\n",
    "    features = X.shape[1]  # 특징 수\n",
    "    input_x = Input(shape=(features,), name='InputFeatures')\n",
    "    input_y = Input(shape=(num_classes,), name='InputLabels')  # 라벨 추가\n",
    "\n",
    "    # CNN 기반 인코더\n",
    "    reshaped_input = layers.Reshape((features, 1))(input_x)\n",
    "    h = layers.Conv1D(filters=64, kernel_size=3, activation=\"relu\", padding='same')(reshaped_input)\n",
    "    h = layers.Conv1D(filters=32, kernel_size=3, activation=\"relu\", padding='same')(h)\n",
    "    h = layers.Conv1D(filters=16, kernel_size=3, activation=\"relu\", padding='same')(h)\n",
    "    h = layers.Flatten()(h)\n",
    "    h = layers.Concatenate()([h, input_y])  # 라벨과 결합\n",
    "    h = layers.Dense(inter_dim, activation='relu')(h)\n",
    "\n",
    "    # Gaussian MLP (잠재 공간)\n",
    "    z_mean = layers.Dense(latent_dim, name='z_mean')(h)\n",
    "    z_log_sigma = layers.Dense(latent_dim, name='z_log_sigma')(h)\n",
    "    z = layers.Lambda(sampling, name='z')([z_mean, z_log_sigma])\n",
    "\n",
    "    # 디코더 (Gaussian MLP)\n",
    "    decoder_input = layers.Concatenate()([z, input_y])  # 잠재 벡터 + 라벨\n",
    "    decoder1 = layers.Dense(features * inter_dim)(decoder_input)\n",
    "    decoder1 = layers.Reshape((features, inter_dim))(decoder1)\n",
    "    decoder1 = layers.Conv1DTranspose(filters=16, kernel_size=3, activation=\"relu\", padding='same')(decoder1)\n",
    "    decoder1 = layers.Conv1DTranspose(filters=32, kernel_size=3, activation=\"relu\", padding='same')(decoder1)\n",
    "    decoder1 = layers.Conv1DTranspose(filters=64, kernel_size=3, activation=\"relu\", padding='same')(decoder1)\n",
    "    decoder1 = layers.Flatten()(decoder1)\n",
    "    x_decoded_mean = layers.Dense(features, activation='sigmoid', name='ReconstructedOutput')(decoder1)  # 최종 복원\n",
    "\n",
    "    # Bernoulli MLP (다중 분류)\n",
    "    classification_output = layers.Dense(num_classes, activation='softmax', name='ClassificationOutput')(h)\n",
    "\n",
    "    # 모델 생성\n",
    "    model = Model([input_x, input_y], [x_decoded_mean, classification_output])\n",
    "    model.add_loss(cvae_loss(input_x, x_decoded_mean, z_mean, z_log_sigma, input_y, classification_output))\n",
    "\n",
    "    return model\n",
    "\n",
    "# ✅ CVAE 학습 (정상 + 여러 공격 데이터 포함)\n",
    "y_train_onehot = tf.keras.utils.to_categorical(y_train, num_classes)  # 라벨 원핫 인코딩\n",
    "model = cvae(X_train, y_train_onehot)\n",
    "model.compile(optimizer=tf.keras.optimizers.Adam(learning_rate=0.0005), metrics=['accuracy'])\n",
    "\n",
    "early_stopping = tf.keras.callbacks.EarlyStopping(monitor='val_loss', patience=5, restore_best_weights=True)\n",
    "history = model.fit([X_train, y_train_onehot], [X_train, y_train_onehot],  # Reconstruction + Classification\n",
    "                    shuffle=True, epochs=50, validation_split=0.1, batch_size=32,\n",
    "                    callbacks=[early_stopping])"
   ]
  },
  {
   "cell_type": "code",
   "execution_count": 13,
   "id": "38ef71bc",
   "metadata": {},
   "outputs": [
    {
     "name": "stdout",
     "output_type": "stream",
     "text": [
      "You must install pydot (`pip install pydot`) and install graphviz (see instructions at https://graphviz.gitlab.io/download/) for plot_model to work.\n"
     ]
    }
   ],
   "source": [
    "from tensorflow.keras.utils import plot_model\n",
    "\n",
    "plot_model(model, to_file='model_shapes.png', show_shapes=True)"
   ]
  },
  {
   "cell_type": "code",
   "execution_count": 14,
   "id": "40f8b920",
   "metadata": {},
   "outputs": [
    {
     "name": "stdout",
     "output_type": "stream",
     "text": [
      "Model: \"model\"\n",
      "__________________________________________________________________________________________________\n",
      " Layer (type)                   Output Shape         Param #     Connected to                     \n",
      "==================================================================================================\n",
      " InputFeatures (InputLayer)     [(None, 25)]         0           []                               \n",
      "                                                                                                  \n",
      " reshape (Reshape)              (None, 25, 1)        0           ['InputFeatures[0][0]']          \n",
      "                                                                                                  \n",
      " conv1d (Conv1D)                (None, 25, 64)       256         ['reshape[0][0]']                \n",
      "                                                                                                  \n",
      " conv1d_1 (Conv1D)              (None, 25, 32)       6176        ['conv1d[0][0]']                 \n",
      "                                                                                                  \n",
      " conv1d_2 (Conv1D)              (None, 25, 16)       1552        ['conv1d_1[0][0]']               \n",
      "                                                                                                  \n",
      " flatten (Flatten)              (None, 400)          0           ['conv1d_2[0][0]']               \n",
      "                                                                                                  \n",
      " InputLabels (InputLayer)       [(None, 9)]          0           []                               \n",
      "                                                                                                  \n",
      " concatenate (Concatenate)      (None, 409)          0           ['flatten[0][0]',                \n",
      "                                                                  'InputLabels[0][0]']            \n",
      "                                                                                                  \n",
      " dense (Dense)                  (None, 20)           8200        ['concatenate[0][0]']            \n",
      "                                                                                                  \n",
      " z_mean (Dense)                 (None, 10)           210         ['dense[0][0]']                  \n",
      "                                                                                                  \n",
      " z_log_sigma (Dense)            (None, 10)           210         ['dense[0][0]']                  \n",
      "                                                                                                  \n",
      " z (Lambda)                     (None, 10)           0           ['z_mean[0][0]',                 \n",
      "                                                                  'z_log_sigma[0][0]']            \n",
      "                                                                                                  \n",
      " concatenate_1 (Concatenate)    (None, 19)           0           ['z[0][0]',                      \n",
      "                                                                  'InputLabels[0][0]']            \n",
      "                                                                                                  \n",
      " dense_1 (Dense)                (None, 500)          10000       ['concatenate_1[0][0]']          \n",
      "                                                                                                  \n",
      " reshape_1 (Reshape)            (None, 25, 20)       0           ['dense_1[0][0]']                \n",
      "                                                                                                  \n",
      " conv1d_transpose (Conv1DTransp  (None, 25, 16)      976         ['reshape_1[0][0]']              \n",
      " ose)                                                                                             \n",
      "                                                                                                  \n",
      " conv1d_transpose_1 (Conv1DTran  (None, 25, 32)      1568        ['conv1d_transpose[0][0]']       \n",
      " spose)                                                                                           \n",
      "                                                                                                  \n",
      " conv1d_transpose_2 (Conv1DTran  (None, 25, 64)      6208        ['conv1d_transpose_1[0][0]']     \n",
      " spose)                                                                                           \n",
      "                                                                                                  \n",
      " flatten_1 (Flatten)            (None, 1600)         0           ['conv1d_transpose_2[0][0]']     \n",
      "                                                                                                  \n",
      " ReconstructedOutput (Dense)    (None, 25)           40025       ['flatten_1[0][0]']              \n",
      "                                                                                                  \n",
      " ClassificationOutput (Dense)   (None, 9)            189         ['dense[0][0]']                  \n",
      "                                                                                                  \n",
      " tf.clip_by_value (TFOpLambda)  (None, 10)           0           ['z_log_sigma[0][0]']            \n",
      "                                                                                                  \n",
      " tf.__operators__.add_1 (TFOpLa  (None, 10)          0           ['tf.clip_by_value[0][0]']       \n",
      " mbda)                                                                                            \n",
      "                                                                                                  \n",
      " tf.math.square_1 (TFOpLambda)  (None, 10)           0           ['z_mean[0][0]']                 \n",
      "                                                                                                  \n",
      " tf.clip_by_value_1 (TFOpLambda  (None, 10)          0           ['z_log_sigma[0][0]']            \n",
      " )                                                                                                \n",
      "                                                                                                  \n",
      " tf.math.subtract_1 (TFOpLambda  (None, 10)          0           ['tf.__operators__.add_1[0][0]', \n",
      " )                                                                'tf.math.square_1[0][0]']       \n",
      "                                                                                                  \n",
      " tf.math.exp (TFOpLambda)       (None, 10)           0           ['tf.clip_by_value_1[0][0]']     \n",
      "                                                                                                  \n",
      " tf.math.subtract (TFOpLambda)  (None, 25)           0           ['InputFeatures[0][0]',          \n",
      "                                                                  'ReconstructedOutput[0][0]']    \n",
      "                                                                                                  \n",
      " tf.math.subtract_2 (TFOpLambda  (None, 10)          0           ['tf.math.subtract_1[0][0]',     \n",
      " )                                                                'tf.math.exp[0][0]']            \n",
      "                                                                                                  \n",
      " tf.math.square (TFOpLambda)    (None, 25)           0           ['tf.math.subtract[0][0]']       \n",
      "                                                                                                  \n",
      " tf.math.reduce_sum (TFOpLambda  (None,)             0           ['tf.math.subtract_2[0][0]']     \n",
      " )                                                                                                \n",
      "                                                                                                  \n",
      " tf.__operators__.add (TFOpLamb  (None, 25)          0           ['tf.math.square[0][0]']         \n",
      " da)                                                                                              \n",
      "                                                                                                  \n",
      " tf.math.multiply (TFOpLambda)  (None,)              0           ['tf.math.reduce_sum[0][0]']     \n",
      "                                                                                                  \n",
      " tf.math.reduce_mean (TFOpLambd  ()                  0           ['tf.__operators__.add[0][0]']   \n"
     ]
    },
    {
     "name": "stdout",
     "output_type": "stream",
     "text": [
      " a)                                                                                               \n",
      "                                                                                                  \n",
      " tf.math.multiply_1 (TFOpLambda  (None,)             0           ['tf.math.multiply[0][0]']       \n",
      " )                                                                                                \n",
      "                                                                                                  \n",
      " tf.cast (TFOpLambda)           (None, 9)            0           ['InputLabels[0][0]']            \n",
      "                                                                                                  \n",
      " tf.convert_to_tensor (TFOpLamb  (None, 9)           0           ['ClassificationOutput[0][0]']   \n",
      " da)                                                                                              \n",
      "                                                                                                  \n",
      " tf.__operators__.add_2 (TFOpLa  (None,)             0           ['tf.math.reduce_mean[0][0]',    \n",
      " mbda)                                                            'tf.math.multiply_1[0][0]']     \n",
      "                                                                                                  \n",
      " tf.keras.backend.categorical_c  (None,)             0           ['tf.cast[0][0]',                \n",
      " rossentropy (TFOpLambda)                                         'tf.convert_to_tensor[0][0]']   \n",
      "                                                                                                  \n",
      " tf.__operators__.add_3 (TFOpLa  (None,)             0           ['tf.__operators__.add_2[0][0]', \n",
      " mbda)                                                            'tf.keras.backend.categorical_cr\n",
      "                                                                 ossentropy[0][0]']               \n",
      "                                                                                                  \n",
      " tf.math.reduce_mean_1 (TFOpLam  ()                  0           ['tf.__operators__.add_3[0][0]'] \n",
      " bda)                                                                                             \n",
      "                                                                                                  \n",
      " add_loss (AddLoss)             ()                   0           ['tf.math.reduce_mean_1[0][0]']  \n",
      "                                                                                                  \n",
      "==================================================================================================\n",
      "Total params: 75,570\n",
      "Trainable params: 75,570\n",
      "Non-trainable params: 0\n",
      "__________________________________________________________________________________________________\n"
     ]
    }
   ],
   "source": [
    "model.summary()\n"
   ]
  },
  {
   "cell_type": "code",
   "execution_count": 15,
   "id": "bab395c5",
   "metadata": {},
   "outputs": [],
   "source": [
    "y_test_onehot = tf.keras.utils.to_categorical(y_test, num_classes)  # 라벨 원핫 인코딩"
   ]
  },
  {
   "cell_type": "code",
   "execution_count": 17,
   "id": "b9da92ad",
   "metadata": {},
   "outputs": [
    {
     "name": "stdout",
     "output_type": "stream",
     "text": [
      "8970/8970 [==============================] - 15s 2ms/step\n",
      "         reconstruction_error  true_class\n",
      "1586856              1.934128           1\n",
      "146821               0.675499           0\n",
      "301814               0.358226           0\n",
      "193979               0.173580           0\n",
      "202567               0.592293           0\n"
     ]
    }
   ],
   "source": [
    "# ✅ 모델 예측 (CVAE는 2개 출력을 반환)\n",
    "X_reconstructed, y_pred = model.predict([X_test, y_test_onehot])\n",
    "\n",
    "# ✅ 복원 오류 (MSE) 계산 (X_reconstructed만 사용)\n",
    "reconstruction_errors = np.mean(np.square(X_test - X_reconstructed), axis=1)\n",
    "\n",
    "# ✅ error_df 생성 (실제 라벨 포함)\n",
    "error_df = pd.DataFrame({\n",
    "    'reconstruction_error': reconstruction_errors,\n",
    "    'true_class': y_test  # 실제 라벨\n",
    "})\n",
    "\n",
    "# ✅ DataFrame 출력\n",
    "print(error_df.head())\n"
   ]
  },
  {
   "cell_type": "code",
   "execution_count": 19,
   "id": "e2a080df",
   "metadata": {},
   "outputs": [
    {
     "data": {
      "text/plain": [
       "true_class\n",
       "0    159261\n",
       "5     16072\n",
       "8     16043\n",
       "2     16025\n",
       "3     15989\n",
       "6     15957\n",
       "4     15934\n",
       "7     15889\n",
       "1     15848\n",
       "Name: count, dtype: int64"
      ]
     },
     "execution_count": 19,
     "metadata": {},
     "output_type": "execute_result"
    }
   ],
   "source": [
    "error_df['true_class'].value_counts()"
   ]
  },
  {
   "cell_type": "code",
   "execution_count": 20,
   "id": "98c434b8",
   "metadata": {},
   "outputs": [
    {
     "name": "stdout",
     "output_type": "stream",
     "text": [
      "\n",
      "✅ 수정된 클래스별 Threshold 값:\n",
      "   Class  Threshold\n",
      "0      1   5.258872\n",
      "1      0  28.236778\n",
      "2      7   6.115108\n",
      "3      5  13.850305\n",
      "4      3   4.606050\n",
      "5      6   0.854574\n",
      "6      2   8.416362\n",
      "7      4   8.609052\n",
      "8      8   0.752127\n"
     ]
    }
   ],
   "source": [
    "import numpy as np\n",
    "import pandas as pd\n",
    "from scipy.stats import genpareto\n",
    "\n",
    "# ✅ 클래스별 EVT Threshold 적용 함수 (수정된 버전)\n",
    "def calculate_evt_threshold_per_class(error_df, tail_fraction=0.1, quantile=0.95):\n",
    "    thresholds = {}\n",
    "    \n",
    "    for cls in error_df['true_class'].unique():\n",
    "        errors = error_df[error_df['true_class'] == cls]['reconstruction_error'].values\n",
    "        \n",
    "        if len(errors) < 10:\n",
    "            # 샘플 수 부족 시, 기본 IQR 방식 사용\n",
    "            Q1 = np.percentile(errors, 25)\n",
    "            Q3 = np.percentile(errors, 75)\n",
    "            IQR = Q3 - Q1\n",
    "            thresholds[cls] = Q3 + 1.5 * IQR\n",
    "        else:\n",
    "            # ✅ median(class_errors) 기준으로 EVT 적용\n",
    "            median_value = np.median(errors)\n",
    "            errors = np.sort(errors)\n",
    "            threshold_idx = int(len(errors) * (1 - tail_fraction))\n",
    "            threshold_value = errors[threshold_idx]\n",
    "\n",
    "            # ✅ Tail 부분 데이터 선택\n",
    "            excesses = errors[threshold_idx:] - threshold_value\n",
    "\n",
    "            # ✅ EVT 적용\n",
    "            shape, loc, scale = genpareto.fit(excesses)\n",
    "            evt_threshold = threshold_value + genpareto.ppf(quantile, shape, loc=loc, scale=scale)\n",
    "\n",
    "            # ✅ Threshold가 이상할 경우 (클래스별 차이가 너무 큰 경우) 자동 조정\n",
    "            max_threshold = np.percentile(errors, 99)  # 최대 99th Percentile 제한\n",
    "            thresholds[cls] = min(evt_threshold, max_threshold)  # 둘 중 작은 값 적용\n",
    "\n",
    "    return thresholds\n",
    "\n",
    "# ✅ 새로운 Threshold 계산 적용\n",
    "class_thresholds = calculate_evt_threshold_per_class(error_df)\n",
    "error_df['threshold'] = error_df['true_class'].map(class_thresholds)\n",
    "error_df['pred_class'] = (error_df['reconstruction_error'] > error_df['threshold']).astype(int)\n",
    "\n",
    "# ✅ 적용된 새로운 Threshold 확인\n",
    "print(\"\\n✅ 수정된 클래스별 Threshold 값:\")\n",
    "print(pd.DataFrame(class_thresholds.items(), columns=[\"Class\", \"Threshold\"]))\n"
   ]
  },
  {
   "cell_type": "code",
   "execution_count": 31,
   "id": "7bf330ef",
   "metadata": {},
   "outputs": [
    {
     "name": "stdout",
     "output_type": "stream",
     "text": [
      "8970/8970 [==============================] - 14s 2ms/step\n",
      "Classification Report:\n",
      "              precision    recall  f1-score   support\n",
      "\n",
      "           0     1.0000    1.0000    1.0000    159261\n",
      "           1     1.0000    1.0000    1.0000     15848\n",
      "           2     1.0000    1.0000    1.0000     16025\n",
      "           3     1.0000    1.0000    1.0000     15989\n",
      "           4     1.0000    1.0000    1.0000     15934\n",
      "           5     1.0000    1.0000    1.0000     16072\n",
      "           6     1.0000    1.0000    1.0000     15957\n",
      "           7     1.0000    1.0000    1.0000     15889\n",
      "           8     1.0000    1.0000    1.0000     16043\n",
      "\n",
      "    accuracy                         1.0000    287018\n",
      "   macro avg     1.0000    1.0000    1.0000    287018\n",
      "weighted avg     1.0000    1.0000    1.0000    287018\n",
      "\n"
     ]
    },
    {
     "data": {
      "image/png": "[encoded data removed]",
      "text/plain": [
       "<Figure size 1000x800 with 2 Axes>"
      ]
     },
     "metadata": {},
     "output_type": "display_data"
    }
   ],
   "source": [
    "import numpy as np\n",
    "import pandas as pd\n",
    "import matplotlib.pyplot as plt\n",
    "import seaborn as sns\n",
    "from sklearn.metrics import classification_report, confusion_matrix\n",
    "\n",
    "# ✅ 실제 라벨과 예측 라벨을 준비\n",
    "y_true = error_df['true_class'].values  # 실제 라벨\n",
    "\n",
    "# ✅ y_pred는 CVAE의 다중 클래스 분류 네트워크 출력값이어야 함\n",
    "_, y_pred_probs = model.predict([X_test, y_test_onehot])  # 다중 클래스 확률 출력\n",
    "y_pred = np.argmax(y_pred_probs, axis=1)  # 가장 높은 확률을 가진 클래스로 예측\n",
    "\n",
    "# ✅ 성능 평가 (Precision, Recall, F1-score)\n",
    "print(\"Classification Report:\")\n",
    "print(classification_report(y_true, y_pred, digits=4))\n",
    "\n",
    "# ✅ 혼동 행렬 생성 (Count 기반)\n",
    "conf_matrix = confusion_matrix(y_true, y_pred)\n",
    "\n",
    "# ✅ 1.0 기준 정규화 (각 행을 합이 1.0이 되도록 변환)\n",
    "conf_matrix_normalized = conf_matrix.astype('float') / conf_matrix.sum(axis=1, keepdims=True)\n",
    "\n",
    "# ✅ 혼동 행렬 시각화 (비율을 소수점 2자리까지 출력)\n",
    "plt.figure(figsize=(10, 8))\n",
    "sns.heatmap(conf_matrix_normalized, annot=True, fmt=\".2f\", cmap=\"Blues\", xticklabels=range(9), yticklabels=range(9))\n",
    "plt.xlabel(\"Predicted Labels\")\n",
    "plt.ylabel(\"True Labels\")\n",
    "plt.title(\"Confusion Matrix for 9-Class Classification (Normalized to 1.0)\")\n",
    "plt.show()\n"
   ]
  },
  {
   "cell_type": "code",
   "execution_count": 26,
   "id": "397af3ae",
   "metadata": {},
   "outputs": [
    {
     "name": "stdout",
     "output_type": "stream",
     "text": [
      "(array([0, 1, 2, 3, 4, 5, 6, 7, 8], dtype=int64), array([159261,  15848,  16025,  15989,  15934,  16072,  15957,  15889,\n",
      "        16043], dtype=int64))\n"
     ]
    }
   ],
   "source": [
    "print(np.unique(y_pred, return_counts=True))  # 예측된 라벨의 분포 확인\n"
   ]
  },
  {
   "cell_type": "code",
   "execution_count": 27,
   "id": "f8e3424f",
   "metadata": {},
   "outputs": [
    {
     "name": "stdout",
     "output_type": "stream",
     "text": [
      "Train shape: (2583154, 25) Test shape: (287018, 25)\n"
     ]
    }
   ],
   "source": [
    "print(\"Train shape:\", X_train.shape, \"Test shape:\", X_test.shape)\n"
   ]
  },
  {
   "cell_type": "code",
   "execution_count": 28,
   "id": "b712977a",
   "metadata": {},
   "outputs": [
    {
     "name": "stdout",
     "output_type": "stream",
     "text": [
      "y_test unique values: [0 1 2 3 4 5 6 7 8]\n",
      "y_test_onehot shape: (287018, 9)\n",
      "Sample y_test_onehot: [[0. 1. 0. 0. 0. 0. 0. 0. 0.]\n",
      " [1. 0. 0. 0. 0. 0. 0. 0. 0.]\n",
      " [1. 0. 0. 0. 0. 0. 0. 0. 0.]\n",
      " [1. 0. 0. 0. 0. 0. 0. 0. 0.]\n",
      " [1. 0. 0. 0. 0. 0. 0. 0. 0.]]\n"
     ]
    }
   ],
   "source": [
    "print(\"y_test unique values:\", np.unique(y_test))\n",
    "print(\"y_test_onehot shape:\", y_test_onehot.shape)\n",
    "print(\"Sample y_test_onehot:\", y_test_onehot[:5])  # 일부 샘플 출력\n"
   ]
  },
  {
   "cell_type": "code",
   "execution_count": 29,
   "id": "7e87faee",
   "metadata": {},
   "outputs": [
    {
     "name": "stdout",
     "output_type": "stream",
     "text": [
      "Sample of y_pred_probs:\n",
      " [[2.2778136e-14 1.0000000e+00 7.1364347e-16 8.9985502e-15 9.5535929e-20\n",
      "  1.5703288e-25 3.9060801e-21 1.6748907e-21 3.3002171e-31]\n",
      " [1.0000000e+00 7.1468757e-14 2.5440613e-11 5.0832382e-14 6.2969684e-16\n",
      "  8.5627963e-11 1.7462649e-24 3.4331301e-12 1.1796276e-16]\n",
      " [1.0000000e+00 4.9290122e-15 2.0683789e-14 7.6238636e-17 3.0879935e-15\n",
      "  1.1923671e-17 5.3247505e-25 9.7185033e-17 3.1185710e-15]\n",
      " [1.0000000e+00 1.9901244e-17 1.2157783e-16 8.7432907e-20 8.5238622e-12\n",
      "  4.3914121e-18 1.4507254e-28 1.3349134e-18 2.2678722e-26]\n",
      " [1.0000000e+00 1.2082746e-12 1.2455289e-12 2.2207973e-16 4.3796682e-18\n",
      "  6.8146552e-14 3.0145233e-18 1.2033688e-12 7.1211706e-18]]\n",
      "Predicted class distribution:\n",
      "Class 0: 159261 samples\n",
      "Class 1: 15848 samples\n",
      "Class 2: 16025 samples\n",
      "Class 3: 15989 samples\n",
      "Class 4: 15934 samples\n",
      "Class 5: 16072 samples\n",
      "Class 6: 15957 samples\n",
      "Class 7: 15889 samples\n",
      "Class 8: 16043 samples\n"
     ]
    }
   ],
   "source": [
    "# ✅ 예측된 클래스 확률 출력\n",
    "print(\"Sample of y_pred_probs:\\n\", y_pred_probs[:5])\n",
    "\n",
    "# ✅ 예측된 클래스의 분포 확인\n",
    "unique_classes, class_counts = np.unique(y_pred, return_counts=True)\n",
    "print(\"Predicted class distribution:\")\n",
    "for cls, count in zip(unique_classes, class_counts):\n",
    "    print(f\"Class {cls}: {count} samples\")\n"
   ]
  },
  {
   "cell_type": "code",
   "execution_count": null,
   "id": "47ccde41",
   "metadata": {},
   "outputs": [],
   "source": []
  }
 ],
 "metadata": {
  "kernelspec": {
   "display_name": "myvenv",
   "language": "python",
   "name": "myenv"
  },
  "language_info": {
   "codemirror_mode": {
    "name": "ipython",
    "version": 3
   },
   "file_extension": ".py",
   "mimetype": "text/x-python",
   "name": "python",
   "nbconvert_exporter": "python",
   "pygments_lexer": "ipython3",
   "version": "3.9.18"
  }
 },
 "nbformat": 4,
 "nbformat_minor": 5
}
