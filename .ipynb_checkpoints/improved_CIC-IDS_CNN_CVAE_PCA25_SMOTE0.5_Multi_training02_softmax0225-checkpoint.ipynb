{
 "cells": [
  {
   "cell_type": "code",
   "execution_count": 1,
   "id": "9d6359a2",
   "metadata": {},
   "outputs": [],
   "source": [
    "import pandas as pd\n",
    "import numpy as np\n",
    "import pickle\n",
    "import matplotlib.pyplot as plt\n",
    "from scipy import stats\n",
    "import tensorflow as tf\n",
    "import seaborn as sns\n",
    "from pylab import rcParams\n",
    "from sklearn.model_selection import train_test_split\n",
    "from keras.models import Model, load_model\n",
    "from keras.layers import Input, Dense\n",
    "from keras.callbacks import ModelCheckpoint, TensorBoard\n",
    "from keras import regularizers"
   ]
  },
  {
   "cell_type": "code",
   "execution_count": 2,
   "id": "f3700cab",
   "metadata": {},
   "outputs": [],
   "source": [
    "from tensorflow.keras.models import Model, load_model\n",
    "from tensorflow.keras.layers import Lambda, Input, Dense\n",
    "from tensorflow.keras.losses import mse, binary_crossentropy, kl_divergence\n",
    "from tensorflow.keras import optimizers\n",
    "from tensorflow.keras import backend as K\n",
    "\n",
    "from sklearn.model_selection import train_test_split\n",
    "from sklearn.preprocessing import MinMaxScaler, StandardScaler, PowerTransformer\n",
    "\n",
    "import seaborn as sns\n",
    "import matplotlib.pyplot as plt\n",
    "from sklearn.linear_model import LogisticRegression\n",
    "from sklearn.tree import DecisionTreeClassifier\n",
    "from sklearn.neighbors import KNeighborsClassifier\n",
    "from sklearn.model_selection import train_test_split\n",
    "from sklearn.metrics import accuracy_score\n",
    "from sklearn.model_selection import cross_val_score\n",
    "from sklearn.preprocessing import OneHotEncoder\n",
    "from sklearn.preprocessing import scale\n",
    "\n",
    "\n",
    "import numpy as np\n",
    "import pandas as pd"
   ]
  },
  {
   "cell_type": "markdown",
   "id": "8d2a16b7",
   "metadata": {},
   "source": [
    "df = pd.read_csv(\"./cic_ids_smote03_pca25.csv\")\n",
    "#df = pd.read_csv(\"/Users/anchanghun/Downloads/CIC-Dataset/cleaned_improved_cicids2017.csv\")"
   ]
  },
  {
   "cell_type": "code",
   "execution_count": 3,
   "id": "044ef64f",
   "metadata": {},
   "outputs": [],
   "source": [
    "X_train =pd.read_csv(\"D:/dataset/0219_Paper_Dataset/train_pca.csv\")\n",
    "X_test =pd.read_csv(\"D:/dataset/0219_Paper_Dataset/test_pca.csv\")"
   ]
  },
  {
   "cell_type": "code",
   "execution_count": 4,
   "id": "f4efb1a0",
   "metadata": {},
   "outputs": [
    {
     "data": {
      "text/plain": [
       "((6378151, 26), (405464, 26))"
      ]
     },
     "execution_count": 4,
     "metadata": {},
     "output_type": "execute_result"
    }
   ],
   "source": [
    "X_train.shape, X_test.shape"
   ]
  },
  {
   "cell_type": "code",
   "execution_count": 5,
   "id": "f49293d5",
   "metadata": {},
   "outputs": [],
   "source": [
    "y_train = X_train['label']\n",
    "X_train = X_train.drop(labels='label',axis=1)"
   ]
  },
  {
   "cell_type": "code",
   "execution_count": 6,
   "id": "4af141de-1956-41a7-a800-d472d51a9c72",
   "metadata": {},
   "outputs": [],
   "source": [
    "y_test = X_test['label']\n",
    "X_test = X_test.drop(labels='label',axis=1)"
   ]
  },
  {
   "cell_type": "code",
   "execution_count": 7,
   "id": "ed36d011",
   "metadata": {},
   "outputs": [
    {
     "data": {
      "text/plain": [
       "((6378151, 25), (405464, 25))"
      ]
     },
     "execution_count": 7,
     "metadata": {},
     "output_type": "execute_result"
    }
   ],
   "source": [
    "X_train.shape, X_test.shape"
   ]
  },
  {
   "cell_type": "code",
   "execution_count": 8,
   "id": "882dc9fc",
   "metadata": {},
   "outputs": [
    {
     "data": {
      "text/plain": [
       "((6378151,), (405464,))"
      ]
     },
     "execution_count": 8,
     "metadata": {},
     "output_type": "execute_result"
    }
   ],
   "source": [
    "y_train.shape, y_test.shape"
   ]
  },
  {
   "cell_type": "code",
   "execution_count": 9,
   "id": "417d89f9",
   "metadata": {},
   "outputs": [],
   "source": [
    "import tensorflow as tf\n",
    "from tensorflow.keras import optimizers\n",
    "from tensorflow.keras.models import Model\n",
    "from tensorflow.keras.layers import Input, Dense, Dropout\n",
    "from tensorflow.keras.utils import plot_model\n",
    "import tensorflow as tf\n",
    "from keras.layers import Input, Dropout, Dense, LSTM, TimeDistributed, RepeatVector, Conv1D, Conv1DTranspose\n",
    "from keras.models import Model\n",
    "from keras import regularizers\n",
    "from keras_self_attention import SeqWeightedAttention, SeqSelfAttention\n",
    "from keras.callbacks import EarlyStopping"
   ]
  },
  {
   "cell_type": "code",
   "execution_count": 10,
   "id": "9d65d3e8",
   "metadata": {},
   "outputs": [
    {
     "name": "stdout",
     "output_type": "stream",
     "text": [
      "Epoch 1/50\n",
      "179386/179386 [==============================] - 1150s 6ms/step - loss: 17.9461 - ReconstructedOutput_accuracy: 0.6324 - ClassificationOutput_accuracy: 0.9996 - val_loss: 0.5586 - val_ReconstructedOutput_accuracy: 0.0140 - val_ClassificationOutput_accuracy: 0.9996\n",
      "Epoch 2/50\n",
      "179386/179386 [==============================] - 1023s 6ms/step - loss: 17.9365 - ReconstructedOutput_accuracy: 0.6550 - ClassificationOutput_accuracy: 1.0000 - val_loss: 0.5615 - val_ReconstructedOutput_accuracy: 0.0307 - val_ClassificationOutput_accuracy: 0.9992\n",
      "Epoch 3/50\n",
      "179386/179386 [==============================] - 844s 5ms/step - loss: 17.9358 - ReconstructedOutput_accuracy: 0.6331 - ClassificationOutput_accuracy: 1.0000 - val_loss: 0.5613 - val_ReconstructedOutput_accuracy: 0.0205 - val_ClassificationOutput_accuracy: 0.9992\n",
      "Epoch 4/50\n",
      "179386/179386 [==============================] - 868s 5ms/step - loss: 17.9364 - ReconstructedOutput_accuracy: 0.6070 - ClassificationOutput_accuracy: 1.0000 - val_loss: 0.5592 - val_ReconstructedOutput_accuracy: 0.2356 - val_ClassificationOutput_accuracy: 0.9994\n",
      "Epoch 5/50\n",
      "179386/179386 [==============================] - 862s 5ms/step - loss: 17.9365 - ReconstructedOutput_accuracy: 0.5875 - ClassificationOutput_accuracy: 1.0000 - val_loss: 0.5558 - val_ReconstructedOutput_accuracy: 0.6711 - val_ClassificationOutput_accuracy: 0.9995\n",
      "Epoch 6/50\n",
      "179386/179386 [==============================] - 870s 5ms/step - loss: 17.9367 - ReconstructedOutput_accuracy: 0.5785 - ClassificationOutput_accuracy: 1.0000 - val_loss: 0.5579 - val_ReconstructedOutput_accuracy: 0.9487 - val_ClassificationOutput_accuracy: 0.9994\n",
      "Epoch 7/50\n",
      "179386/179386 [==============================] - 868s 5ms/step - loss: 17.9370 - ReconstructedOutput_accuracy: 0.5691 - ClassificationOutput_accuracy: 1.0000 - val_loss: 0.5556 - val_ReconstructedOutput_accuracy: 0.9607 - val_ClassificationOutput_accuracy: 0.9995\n",
      "Epoch 8/50\n",
      "179386/179386 [==============================] - 866s 5ms/step - loss: 17.9385 - ReconstructedOutput_accuracy: 0.5662 - ClassificationOutput_accuracy: 1.0000 - val_loss: 0.5603 - val_ReconstructedOutput_accuracy: 0.9816 - val_ClassificationOutput_accuracy: 0.9995\n",
      "Epoch 9/50\n",
      "179386/179386 [==============================] - 860s 5ms/step - loss: 17.9375 - ReconstructedOutput_accuracy: 0.5653 - ClassificationOutput_accuracy: 1.0000 - val_loss: 0.5607 - val_ReconstructedOutput_accuracy: 0.9812 - val_ClassificationOutput_accuracy: 0.9994\n",
      "Epoch 10/50\n",
      "179386/179386 [==============================] - 858s 5ms/step - loss: 17.9370 - ReconstructedOutput_accuracy: 0.5675 - ClassificationOutput_accuracy: 1.0000 - val_loss: 0.5543 - val_ReconstructedOutput_accuracy: 0.9816 - val_ClassificationOutput_accuracy: 0.9997\n",
      "Epoch 11/50\n",
      "179386/179386 [==============================] - 870s 5ms/step - loss: 17.9371 - ReconstructedOutput_accuracy: 0.5664 - ClassificationOutput_accuracy: 1.0000 - val_loss: 0.5566 - val_ReconstructedOutput_accuracy: 0.9786 - val_ClassificationOutput_accuracy: 0.9996\n",
      "Epoch 12/50\n",
      "179386/179386 [==============================] - 870s 5ms/step - loss: 17.9376 - ReconstructedOutput_accuracy: 0.5622 - ClassificationOutput_accuracy: 1.0000 - val_loss: 0.5603 - val_ReconstructedOutput_accuracy: 0.9811 - val_ClassificationOutput_accuracy: 0.9992\n",
      "Epoch 13/50\n",
      "179386/179386 [==============================] - 883s 5ms/step - loss: 17.9368 - ReconstructedOutput_accuracy: 0.5628 - ClassificationOutput_accuracy: 1.0000 - val_loss: 0.5657 - val_ReconstructedOutput_accuracy: 0.9805 - val_ClassificationOutput_accuracy: 0.9989\n",
      "Epoch 14/50\n",
      "179386/179386 [==============================] - 880s 5ms/step - loss: 17.9392 - ReconstructedOutput_accuracy: 0.5615 - ClassificationOutput_accuracy: 1.0000 - val_loss: 0.5840 - val_ReconstructedOutput_accuracy: 0.9814 - val_ClassificationOutput_accuracy: 0.9961\n",
      "Epoch 15/50\n",
      "179386/179386 [==============================] - 867s 5ms/step - loss: 17.9371 - ReconstructedOutput_accuracy: 0.5632 - ClassificationOutput_accuracy: 1.0000 - val_loss: 0.5863 - val_ReconstructedOutput_accuracy: 0.9814 - val_ClassificationOutput_accuracy: 0.9949\n"
     ]
    }
   ],
   "source": [
    "import tensorflow as tf\n",
    "from tensorflow.keras import layers, Model, Input\n",
    "import numpy as np\n",
    "from tensorflow.keras import backend as K\n",
    "\n",
    "# ✅ 클래스 개수 (정상 + 공격 유형 개수)\n",
    "num_classes = 9  # 정상(1) + 8개 공격\n",
    "\n",
    "# ✅ 잠재 차원 및 중간 차원 설정\n",
    "latent_dim = 10\n",
    "inter_dim = 20\n",
    "\n",
    "# ✅ 샘플링 함수 (재매개변수화 트릭 사용)\n",
    "def sampling(args):\n",
    "    z_mean, z_log_sigma = args\n",
    "    batch_size = tf.shape(z_mean)[0]\n",
    "    epsilon = K.random_normal(shape=(batch_size, latent_dim), mean=0., stddev=1.)\n",
    "    return z_mean + K.exp(0.5 * K.clip(z_log_sigma, -10, 10)) * epsilon\n",
    "\n",
    "# ✅ CVAE 손실 함수 (Gaussian MLP + Bernoulli MLP 반영)\n",
    "def cvae_loss(x, x_decoded_mean, z_mean, z_log_sigma, y_true, y_pred):\n",
    "    # Reconstruction Loss (Gaussian MLP 적용)\n",
    "    reconstruction_loss = K.mean(K.square(x - x_decoded_mean) + 1e-10)  # NaN 방지\n",
    "    \n",
    "    # KL Divergence (잠재 공간 학습 - Gaussian MLP)\n",
    "    kl_loss = -0.5 * K.sum(1 + K.clip(z_log_sigma, -10, 10) - K.square(z_mean) - K.exp(K.clip(z_log_sigma, -10, 10)), axis=-1)\n",
    "    kl_loss_weighted = kl_loss * 0.001  # KL 손실 가중치 적용\n",
    "\n",
    "    # Classification Loss (Bernoulli MLP 적용)\n",
    "    classification_loss = tf.keras.losses.categorical_crossentropy(y_true, y_pred)  # 다중 분류\n",
    "    \n",
    "    # 총 손실 (Gaussian + Bernoulli)\n",
    "    total_loss = K.mean(reconstruction_loss + kl_loss_weighted + classification_loss)\n",
    "    return total_loss\n",
    "\n",
    "# ✅ CVAE 모델 정의 (Gaussian MLP + Bernoulli MLP)\n",
    "def cvae(X, y):\n",
    "    features = X.shape[1]  # 특징 수\n",
    "    input_x = Input(shape=(features,), name='InputFeatures')\n",
    "    input_y = Input(shape=(num_classes,), name='InputLabels')  # 라벨 추가\n",
    "\n",
    "    # CNN 기반 인코더\n",
    "    reshaped_input = layers.Reshape((features, 1))(input_x)\n",
    "    h = layers.Conv1D(filters=64, kernel_size=3, activation=\"relu\", padding='same')(reshaped_input)\n",
    "    h = layers.Conv1D(filters=32, kernel_size=3, activation=\"relu\", padding='same')(h)\n",
    "    h = layers.Conv1D(filters=16, kernel_size=3, activation=\"relu\", padding='same')(h)\n",
    "    h = layers.Flatten()(h)\n",
    "    h = layers.Concatenate()([h, input_y])  # 라벨과 결합\n",
    "    h = layers.Dense(inter_dim, activation='relu')(h)\n",
    "\n",
    "    # Gaussian MLP (잠재 공간)\n",
    "    z_mean = layers.Dense(latent_dim, name='z_mean')(h)\n",
    "    z_log_sigma = layers.Dense(latent_dim, name='z_log_sigma')(h)\n",
    "    z = layers.Lambda(sampling, name='z')([z_mean, z_log_sigma])\n",
    "\n",
    "    # 디코더 (Gaussian MLP)\n",
    "    decoder_input = layers.Concatenate()([z, input_y])  # 잠재 벡터 + 라벨\n",
    "    decoder1 = layers.Dense(features * inter_dim)(decoder_input)\n",
    "    decoder1 = layers.Reshape((features, inter_dim))(decoder1)\n",
    "    decoder1 = layers.Conv1DTranspose(filters=16, kernel_size=3, activation=\"relu\", padding='same')(decoder1)\n",
    "    decoder1 = layers.Conv1DTranspose(filters=32, kernel_size=3, activation=\"relu\", padding='same')(decoder1)\n",
    "    decoder1 = layers.Conv1DTranspose(filters=64, kernel_size=3, activation=\"relu\", padding='same')(decoder1)\n",
    "    decoder1 = layers.Flatten()(decoder1)\n",
    "    x_decoded_mean = layers.Dense(features, activation='sigmoid', name='ReconstructedOutput')(decoder1)  # 최종 복원\n",
    "\n",
    "    # Bernoulli MLP (다중 분류)\n",
    "    classification_output = layers.Dense(num_classes, activation='softmax', name='ClassificationOutput')(h)\n",
    "\n",
    "    # 모델 생성\n",
    "    model = Model([input_x, input_y], [x_decoded_mean, classification_output])\n",
    "    model.add_loss(cvae_loss(input_x, x_decoded_mean, z_mean, z_log_sigma, input_y, classification_output))\n",
    "\n",
    "    return model\n",
    "\n",
    "# ✅ CVAE 학습 (정상 + 여러 공격 데이터 포함)\n",
    "y_train_onehot = tf.keras.utils.to_categorical(y_train, num_classes)  # 라벨 원핫 인코딩\n",
    "model = cvae(X_train, y_train_onehot)\n",
    "model.compile(optimizer=tf.keras.optimizers.Adam(learning_rate=0.0005), metrics=['accuracy'])\n",
    "\n",
    "early_stopping = tf.keras.callbacks.EarlyStopping(monitor='val_loss', patience=5, restore_best_weights=True)\n",
    "history = model.fit([X_train, y_train_onehot], [X_train, y_train_onehot],  # Reconstruction + Classification\n",
    "                    shuffle=True, epochs=50, validation_split=0.1, batch_size=32,\n",
    "                    callbacks=[early_stopping])\n"
   ]
  },
  {
   "cell_type": "code",
   "execution_count": 11,
   "id": "38ef71bc",
   "metadata": {},
   "outputs": [
    {
     "name": "stdout",
     "output_type": "stream",
     "text": [
      "You must install pydot (`pip install pydot`) and install graphviz (see instructions at https://graphviz.gitlab.io/download/) for plot_model to work.\n"
     ]
    }
   ],
   "source": [
    "from tensorflow.keras.utils import plot_model\n",
    "\n",
    "plot_model(model, to_file='model_shapes.png', show_shapes=True)"
   ]
  },
  {
   "cell_type": "code",
   "execution_count": 12,
   "id": "40f8b920",
   "metadata": {},
   "outputs": [
    {
     "name": "stdout",
     "output_type": "stream",
     "text": [
      "Model: \"model\"\n",
      "__________________________________________________________________________________________________\n",
      " Layer (type)                   Output Shape         Param #     Connected to                     \n",
      "==================================================================================================\n",
      " InputFeatures (InputLayer)     [(None, 25)]         0           []                               \n",
      "                                                                                                  \n",
      " reshape (Reshape)              (None, 25, 1)        0           ['InputFeatures[0][0]']          \n",
      "                                                                                                  \n",
      " conv1d (Conv1D)                (None, 25, 64)       256         ['reshape[0][0]']                \n",
      "                                                                                                  \n",
      " conv1d_1 (Conv1D)              (None, 25, 32)       6176        ['conv1d[0][0]']                 \n",
      "                                                                                                  \n",
      " conv1d_2 (Conv1D)              (None, 25, 16)       1552        ['conv1d_1[0][0]']               \n",
      "                                                                                                  \n",
      " flatten (Flatten)              (None, 400)          0           ['conv1d_2[0][0]']               \n",
      "                                                                                                  \n",
      " InputLabels (InputLayer)       [(None, 9)]          0           []                               \n",
      "                                                                                                  \n",
      " concatenate (Concatenate)      (None, 409)          0           ['flatten[0][0]',                \n",
      "                                                                  'InputLabels[0][0]']            \n",
      "                                                                                                  \n",
      " dense (Dense)                  (None, 20)           8200        ['concatenate[0][0]']            \n",
      "                                                                                                  \n",
      " z_mean (Dense)                 (None, 10)           210         ['dense[0][0]']                  \n",
      "                                                                                                  \n",
      " z_log_sigma (Dense)            (None, 10)           210         ['dense[0][0]']                  \n",
      "                                                                                                  \n",
      " z (Lambda)                     (None, 10)           0           ['z_mean[0][0]',                 \n",
      "                                                                  'z_log_sigma[0][0]']            \n",
      "                                                                                                  \n",
      " concatenate_1 (Concatenate)    (None, 19)           0           ['z[0][0]',                      \n",
      "                                                                  'InputLabels[0][0]']            \n",
      "                                                                                                  \n",
      " dense_1 (Dense)                (None, 500)          10000       ['concatenate_1[0][0]']          \n",
      "                                                                                                  \n",
      " reshape_1 (Reshape)            (None, 25, 20)       0           ['dense_1[0][0]']                \n",
      "                                                                                                  \n",
      " conv1d_transpose (Conv1DTransp  (None, 25, 16)      976         ['reshape_1[0][0]']              \n",
      " ose)                                                                                             \n",
      "                                                                                                  \n",
      " conv1d_transpose_1 (Conv1DTran  (None, 25, 32)      1568        ['conv1d_transpose[0][0]']       \n",
      " spose)                                                                                           \n",
      "                                                                                                  \n",
      " conv1d_transpose_2 (Conv1DTran  (None, 25, 64)      6208        ['conv1d_transpose_1[0][0]']     \n",
      " spose)                                                                                           \n",
      "                                                                                                  \n",
      " flatten_1 (Flatten)            (None, 1600)         0           ['conv1d_transpose_2[0][0]']     \n",
      "                                                                                                  \n",
      " ReconstructedOutput (Dense)    (None, 25)           40025       ['flatten_1[0][0]']              \n",
      "                                                                                                  \n",
      " ClassificationOutput (Dense)   (None, 9)            189         ['dense[0][0]']                  \n",
      "                                                                                                  \n",
      " tf.clip_by_value (TFOpLambda)  (None, 10)           0           ['z_log_sigma[0][0]']            \n",
      "                                                                                                  \n",
      " tf.__operators__.add_1 (TFOpLa  (None, 10)          0           ['tf.clip_by_value[0][0]']       \n",
      " mbda)                                                                                            \n",
      "                                                                                                  \n",
      " tf.math.square_1 (TFOpLambda)  (None, 10)           0           ['z_mean[0][0]']                 \n",
      "                                                                                                  \n",
      " tf.clip_by_value_1 (TFOpLambda  (None, 10)          0           ['z_log_sigma[0][0]']            \n",
      " )                                                                                                \n",
      "                                                                                                  \n",
      " tf.math.subtract_1 (TFOpLambda  (None, 10)          0           ['tf.__operators__.add_1[0][0]', \n",
      " )                                                                'tf.math.square_1[0][0]']       \n",
      "                                                                                                  \n",
      " tf.math.exp (TFOpLambda)       (None, 10)           0           ['tf.clip_by_value_1[0][0]']     \n",
      "                                                                                                  \n",
      " tf.math.subtract (TFOpLambda)  (None, 25)           0           ['InputFeatures[0][0]',          \n",
      "                                                                  'ReconstructedOutput[0][0]']    \n",
      "                                                                                                  \n",
      " tf.math.subtract_2 (TFOpLambda  (None, 10)          0           ['tf.math.subtract_1[0][0]',     \n",
      " )                                                                'tf.math.exp[0][0]']            \n",
      "                                                                                                  \n",
      " tf.math.square (TFOpLambda)    (None, 25)           0           ['tf.math.subtract[0][0]']       \n",
      "                                                                                                  \n",
      " tf.math.reduce_sum (TFOpLambda  (None,)             0           ['tf.math.subtract_2[0][0]']     \n",
      " )                                                                                                \n",
      "                                                                                                  \n",
      " tf.__operators__.add (TFOpLamb  (None, 25)          0           ['tf.math.square[0][0]']         \n",
      " da)                                                                                              \n",
      "                                                                                                  \n",
      " tf.math.multiply (TFOpLambda)  (None,)              0           ['tf.math.reduce_sum[0][0]']     \n",
      "                                                                                                  \n",
      " tf.math.reduce_mean (TFOpLambd  ()                  0           ['tf.__operators__.add[0][0]']   \n"
     ]
    },
    {
     "name": "stdout",
     "output_type": "stream",
     "text": [
      " a)                                                                                               \n",
      "                                                                                                  \n",
      " tf.math.multiply_1 (TFOpLambda  (None,)             0           ['tf.math.multiply[0][0]']       \n",
      " )                                                                                                \n",
      "                                                                                                  \n",
      " tf.cast (TFOpLambda)           (None, 9)            0           ['InputLabels[0][0]']            \n",
      "                                                                                                  \n",
      " tf.convert_to_tensor (TFOpLamb  (None, 9)           0           ['ClassificationOutput[0][0]']   \n",
      " da)                                                                                              \n",
      "                                                                                                  \n",
      " tf.__operators__.add_2 (TFOpLa  (None,)             0           ['tf.math.reduce_mean[0][0]',    \n",
      " mbda)                                                            'tf.math.multiply_1[0][0]']     \n",
      "                                                                                                  \n",
      " tf.keras.backend.categorical_c  (None,)             0           ['tf.cast[0][0]',                \n",
      " rossentropy (TFOpLambda)                                         'tf.convert_to_tensor[0][0]']   \n",
      "                                                                                                  \n",
      " tf.__operators__.add_3 (TFOpLa  (None,)             0           ['tf.__operators__.add_2[0][0]', \n",
      " mbda)                                                            'tf.keras.backend.categorical_cr\n",
      "                                                                 ossentropy[0][0]']               \n",
      "                                                                                                  \n",
      " tf.math.reduce_mean_1 (TFOpLam  ()                  0           ['tf.__operators__.add_3[0][0]'] \n",
      " bda)                                                                                             \n",
      "                                                                                                  \n",
      " add_loss (AddLoss)             ()                   0           ['tf.math.reduce_mean_1[0][0]']  \n",
      "                                                                                                  \n",
      "==================================================================================================\n",
      "Total params: 75,570\n",
      "Trainable params: 75,570\n",
      "Non-trainable params: 0\n",
      "__________________________________________________________________________________________________\n"
     ]
    }
   ],
   "source": [
    "model.summary()\n"
   ]
  },
  {
   "cell_type": "code",
   "execution_count": 13,
   "id": "bab395c5",
   "metadata": {},
   "outputs": [],
   "source": [
    "import numpy as np\n",
    "import matplotlib.pyplot as plt\n",
    "import seaborn as sns\n",
    "from sklearn.metrics import classification_report, confusion_matrix\n",
    "\n",
    "# ✅ 테스트 데이터 라벨 원핫 인코딩\n",
    "y_test_onehot = tf.keras.utils.to_categorical(y_test, num_classes)\n",
    "\n"
   ]
  },
  {
   "cell_type": "code",
   "execution_count": 14,
   "id": "1af54515",
   "metadata": {},
   "outputs": [
    {
     "name": "stdout",
     "output_type": "stream",
     "text": [
      "12671/12671 [==============================] - 21s 2ms/step\n"
     ]
    }
   ],
   "source": [
    "# 새로운 데이터에 대한 예측\n",
    "y_pred_probs = model.predict([X_test, np.zeros((X_test.shape[0], num_classes))])[1]  # softmax 출력을 가져옴\n",
    "\n",
    "# 확률이 가장 높은 클래스 선택 (argmax)\n",
    "y_pred_classes = np.argmax(y_pred_probs, axis=1)\n"
   ]
  },
  {
   "cell_type": "code",
   "execution_count": 15,
   "id": "abad2719",
   "metadata": {},
   "outputs": [
    {
     "data": {
      "text/plain": [
       "array([0, 5, 5, ..., 5, 0, 7], dtype=int64)"
      ]
     },
     "execution_count": 15,
     "metadata": {},
     "output_type": "execute_result"
    }
   ],
   "source": [
    "y_pred_classes"
   ]
  },
  {
   "cell_type": "code",
   "execution_count": 16,
   "id": "ba5b672b",
   "metadata": {},
   "outputs": [
    {
     "name": "stdout",
     "output_type": "stream",
     "text": [
      "Test Accuracy: 0.0647\n"
     ]
    },
    {
     "name": "stderr",
     "output_type": "stream",
     "text": [
      "C:\\Users\\gnssl\\anaconda3\\envs\\myvenv\\lib\\site-packages\\sklearn\\metrics\\_classification.py:1344: UndefinedMetricWarning: Precision and F-score are ill-defined and being set to 0.0 in labels with no predicted samples. Use `zero_division` parameter to control this behavior.\n",
      "  _warn_prf(average, modifier, msg_start, len(result))\n",
      "C:\\Users\\gnssl\\anaconda3\\envs\\myvenv\\lib\\site-packages\\sklearn\\metrics\\_classification.py:1344: UndefinedMetricWarning: Precision and F-score are ill-defined and being set to 0.0 in labels with no predicted samples. Use `zero_division` parameter to control this behavior.\n",
      "  _warn_prf(average, modifier, msg_start, len(result))\n"
     ]
    },
    {
     "name": "stdout",
     "output_type": "stream",
     "text": [
      "              precision    recall  f1-score   support\n",
      "\n",
      "           0       0.48      0.08      0.14    318909\n",
      "           1       0.00      0.00      0.00     19029\n",
      "           2       0.00      0.01      0.01      1513\n",
      "           3       0.00      0.00      0.00     31694\n",
      "           4       0.00      0.15      0.01       348\n",
      "           5       0.00      0.04      0.00       772\n",
      "           6       0.00      0.00      0.00       794\n",
      "           7       0.00      0.00      0.00     31813\n",
      "           8       0.00      0.00      0.00       592\n",
      "\n",
      "    accuracy                           0.06    405464\n",
      "   macro avg       0.05      0.03      0.02    405464\n",
      "weighted avg       0.37      0.06      0.11    405464\n",
      "\n"
     ]
    },
    {
     "name": "stderr",
     "output_type": "stream",
     "text": [
      "C:\\Users\\gnssl\\anaconda3\\envs\\myvenv\\lib\\site-packages\\sklearn\\metrics\\_classification.py:1344: UndefinedMetricWarning: Precision and F-score are ill-defined and being set to 0.0 in labels with no predicted samples. Use `zero_division` parameter to control this behavior.\n",
      "  _warn_prf(average, modifier, msg_start, len(result))\n"
     ]
    }
   ],
   "source": [
    "from sklearn.metrics import accuracy_score, classification_report\n",
    "\n",
    "# 정확도 측정\n",
    "accuracy = accuracy_score(y_test, y_pred_classes)\n",
    "print(f\"Test Accuracy: {accuracy:.4f}\")\n",
    "\n",
    "# 분류 보고서 출력 (정밀도, 재현율, F1-score 등)\n",
    "print(classification_report(y_test, y_pred_classes))\n"
   ]
  },
  {
   "cell_type": "code",
   "execution_count": 17,
   "id": "94a65dde",
   "metadata": {},
   "outputs": [
    {
     "name": "stdout",
     "output_type": "stream",
     "text": [
      "Number of overlapping samples: 0\n"
     ]
    }
   ],
   "source": [
    "overlap = np.sum(np.isin(X_test, X_train).all(axis=1))\n",
    "print(f\"Number of overlapping samples: {overlap}\")"
   ]
  },
  {
   "cell_type": "code",
   "execution_count": 18,
   "id": "397af3ae",
   "metadata": {},
   "outputs": [
    {
     "ename": "NameError",
     "evalue": "name 'y_pred' is not defined",
     "output_type": "error",
     "traceback": [
      "\u001b[1;31m---------------------------------------------------------------------------\u001b[0m",
      "\u001b[1;31mNameError\u001b[0m                                 Traceback (most recent call last)",
      "Cell \u001b[1;32mIn[18], line 1\u001b[0m\n\u001b[1;32m----> 1\u001b[0m \u001b[38;5;28mprint\u001b[39m(np\u001b[38;5;241m.\u001b[39munique(\u001b[43my_pred\u001b[49m, return_counts\u001b[38;5;241m=\u001b[39m\u001b[38;5;28;01mTrue\u001b[39;00m))  \u001b[38;5;66;03m# 예측된 라벨의 분포 확인\u001b[39;00m\n",
      "\u001b[1;31mNameError\u001b[0m: name 'y_pred' is not defined"
     ]
    }
   ],
   "source": [
    "print(np.unique(y_pred, return_counts=True))  # 예측된 라벨의 분포 확인\n"
   ]
  },
  {
   "cell_type": "code",
   "execution_count": 19,
   "id": "f8e3424f",
   "metadata": {},
   "outputs": [
    {
     "name": "stdout",
     "output_type": "stream",
     "text": [
      "Train shape: (6378151, 25) Test shape: (405464, 25)\n"
     ]
    }
   ],
   "source": [
    "print(\"Train shape:\", X_train.shape, \"Test shape:\", X_test.shape)\n"
   ]
  },
  {
   "cell_type": "code",
   "execution_count": 20,
   "id": "b712977a",
   "metadata": {},
   "outputs": [
    {
     "name": "stdout",
     "output_type": "stream",
     "text": [
      "y_test unique values: [0 1 2 3 4 5 6 7 8]\n",
      "y_test_onehot shape: (405464, 9)\n",
      "Sample y_test_onehot: [[1. 0. 0. 0. 0. 0. 0. 0. 0.]\n",
      " [0. 0. 0. 1. 0. 0. 0. 0. 0.]\n",
      " [1. 0. 0. 0. 0. 0. 0. 0. 0.]\n",
      " [1. 0. 0. 0. 0. 0. 0. 0. 0.]\n",
      " [1. 0. 0. 0. 0. 0. 0. 0. 0.]]\n"
     ]
    }
   ],
   "source": [
    "print(\"y_test unique values:\", np.unique(y_test))\n",
    "print(\"y_test_onehot shape:\", y_test_onehot.shape)\n",
    "print(\"Sample y_test_onehot:\", y_test_onehot[:5])  # 일부 샘플 출력\n"
   ]
  },
  {
   "cell_type": "code",
   "execution_count": 21,
   "id": "47ccde41",
   "metadata": {},
   "outputs": [],
   "source": [
    "# ✅ 테스트 라벨 원-핫 인코딩 (y_test → one-hot)\n",
    "y_test_onehot = tf.keras.utils.to_categorical(y_test, num_classes)"
   ]
  },
  {
   "cell_type": "code",
   "execution_count": 22,
   "id": "11c86595",
   "metadata": {},
   "outputs": [
    {
     "name": "stdout",
     "output_type": "stream",
     "text": [
      "12671/12671 [==============================] - 22s 2ms/step\n",
      "📊 테스트 정확도: 99.94%\n",
      "\n",
      "📊 분류 성능 보고서:\n",
      "\n",
      "              precision    recall  f1-score   support\n",
      "\n",
      "      Normal       1.00      1.00      1.00    318909\n",
      "     Attack1       1.00      1.00      1.00     19029\n",
      "     Attack2       1.00      1.00      1.00      1513\n",
      "     Attack3       1.00      1.00      1.00     31694\n",
      "     Attack4       0.84      1.00      0.91       348\n",
      "     Attack5       0.81      1.00      0.89       772\n",
      "     Attack6       1.00      1.00      1.00       794\n",
      "     Attack7       1.00      1.00      1.00     31813\n",
      "     Attack8       1.00      1.00      1.00       592\n",
      "\n",
      "    accuracy                           1.00    405464\n",
      "   macro avg       0.96      1.00      0.98    405464\n",
      "weighted avg       1.00      1.00      1.00    405464\n",
      "\n"
     ]
    }
   ],
   "source": [
    "# ✅ 다중 분류 예측 수행\n",
    "x_decoded_pred, y_pred_probs = model.predict([X_test, y_test_onehot])\n",
    "\n",
    "# ✅ 예측된 클래스 (가장 확률이 높은 클래스 선택)\n",
    "y_pred_classes = np.argmax(y_pred_probs, axis=1)\n",
    "\n",
    "# ✅ 실제 정답 클래스\n",
    "y_true_classes = np.argmax(y_test_onehot, axis=1)\n",
    "\n",
    "# ✅ 정확도 평가\n",
    "from sklearn.metrics import accuracy_score, classification_report\n",
    "\n",
    "accuracy = accuracy_score(y_true_classes, y_pred_classes)\n",
    "print(f\"📊 테스트 정확도: {accuracy * 100:.2f}%\")\n",
    "\n",
    "# ✅ 상세 성능 보고서 (Precision, Recall, F1-score)\n",
    "print(\"\\n📊 분류 성능 보고서:\\n\")\n",
    "print(classification_report(y_true_classes, y_pred_classes, target_names=[\"Normal\", \"Attack1\", \"Attack2\", \"Attack3\", \"Attack4\", \"Attack5\", \"Attack6\", \"Attack7\", \"Attack8\"]))"
   ]
  },
  {
   "cell_type": "code",
   "execution_count": 23,
   "id": "f356ee5b",
   "metadata": {},
   "outputs": [
    {
     "data": {
      "image/png": "[encoded data removed]",
      "text/plain": [
       "<Figure size 800x600 with 2 Axes>"
      ]
     },
     "metadata": {},
     "output_type": "display_data"
    }
   ],
   "source": [
    "import seaborn as sns\n",
    "import matplotlib.pyplot as plt\n",
    "from sklearn.metrics import confusion_matrix\n",
    "\n",
    "# 혼동 행렬 생성\n",
    "cm = confusion_matrix(y_true_classes, y_pred_classes)\n",
    "\n",
    "# 시각화\n",
    "plt.figure(figsize=(8, 6))\n",
    "sns.heatmap(cm, annot=True, fmt=\"d\", cmap=\"Blues\", xticklabels=[\"Normal\", \"A1\", \"A2\", \"A3\", \"A4\", \"A5\", \"A6\", \"A7\", \"A8\"], yticklabels=[\"Normal\", \"A1\", \"A2\", \"A3\", \"A4\", \"A5\", \"A6\", \"A7\", \"A8\"])\n",
    "plt.xlabel(\"Predicted Label\")\n",
    "plt.ylabel(\"True Label\")\n",
    "plt.title(\"Confusion Matrix\")\n",
    "plt.show()"
   ]
  },
  {
   "cell_type": "code",
   "execution_count": 24,
   "id": "e9fe5b70",
   "metadata": {},
   "outputs": [
    {
     "name": "stdout",
     "output_type": "stream",
     "text": [
      "📊 다중 분류 AUC Score: 1.0000\n"
     ]
    }
   ],
   "source": [
    "from sklearn.metrics import roc_auc_score\n",
    "\n",
    "# One-vs-All AUC 계산\n",
    "auc_score = roc_auc_score(y_test_onehot, y_pred_probs, multi_class='ovr')\n",
    "print(f\"📊 다중 분류 AUC Score: {auc_score:.4f}\")"
   ]
  },
  {
   "cell_type": "code",
   "execution_count": 25,
   "id": "af8135f3",
   "metadata": {},
   "outputs": [
    {
     "data": {
      "image/png": "[encoded data removed]",
      "text/plain": [
       "<Figure size 640x480 with 1 Axes>"
      ]
     },
     "metadata": {},
     "output_type": "display_data"
    }
   ],
   "source": [
    "import matplotlib.pyplot as plt\n",
    "\n",
    "# 학습 과정 시각화\n",
    "plt.plot(history.history['loss'], label='Train Loss')\n",
    "plt.plot(history.history['val_loss'], label='Validation Loss')\n",
    "plt.legend()\n",
    "plt.title(\"Loss Curve\")\n",
    "plt.show()"
   ]
  },
  {
   "cell_type": "code",
   "execution_count": 26,
   "id": "d996f824",
   "metadata": {},
   "outputs": [
    {
     "name": "stdout",
     "output_type": "stream",
     "text": [
      "12671/12671 [==============================] - 21s 2ms/step\n"
     ]
    }
   ],
   "source": [
    "# y_test 없이 테스트 데이터만 사용하여 예측 수행\n",
    "_, y_pred_probs = model.predict([X_test, np.zeros_like(y_test_onehot)])  # 더미 라벨 입력\n",
    "\n",
    "# 최종 예측 클래스\n",
    "y_pred_classes = np.argmax(y_pred_probs, axis=1)"
   ]
  },
  {
   "cell_type": "code",
   "execution_count": 27,
   "id": "6a6649e5",
   "metadata": {},
   "outputs": [
    {
     "name": "stdout",
     "output_type": "stream",
     "text": [
      "12671/12671 [==============================] - 23s 2ms/step\n",
      "📊 테스트 정확도: 99.94%\n",
      "\n",
      "📊 분류 성능 보고서:\n",
      "\n",
      "              precision    recall  f1-score   support\n",
      "\n",
      "      Normal       1.00      1.00      1.00    318909\n",
      "     Attack1       1.00      1.00      1.00     19029\n",
      "     Attack2       1.00      1.00      1.00      1513\n",
      "     Attack3       1.00      1.00      1.00     31694\n",
      "     Attack4       0.84      1.00      0.91       348\n",
      "     Attack5       0.81      1.00      0.89       772\n",
      "     Attack6       1.00      1.00      1.00       794\n",
      "     Attack7       1.00      1.00      1.00     31813\n",
      "     Attack8       1.00      1.00      1.00       592\n",
      "\n",
      "    accuracy                           1.00    405464\n",
      "   macro avg       0.96      1.00      0.98    405464\n",
      "weighted avg       1.00      1.00      1.00    405464\n",
      "\n"
     ]
    }
   ],
   "source": [
    "# ✅ 다중 분류 예측 수행\n",
    "x_decoded_pred, y_pred_probs = model.predict([X_test, y_test_onehot])\n",
    "\n",
    "# ✅ 예측된 클래스 (가장 확률이 높은 클래스 선택)\n",
    "y_pred_classes = np.argmax(y_pred_probs, axis=1)\n",
    "\n",
    "# ✅ 실제 정답 클래스\n",
    "y_true_classes = np.argmax(y_test_onehot, axis=1)\n",
    "\n",
    "# ✅ 정확도 평가\n",
    "from sklearn.metrics import accuracy_score, classification_report\n",
    "\n",
    "accuracy = accuracy_score(y_true_classes, y_pred_classes)\n",
    "print(f\"📊 테스트 정확도: {accuracy * 100:.2f}%\")\n",
    "\n",
    "# ✅ 상세 성능 보고서 (Precision, Recall, F1-score)\n",
    "print(\"\\n📊 분류 성능 보고서:\\n\")\n",
    "print(classification_report(y_true_classes, y_pred_classes, target_names=[\"Normal\", \"Attack1\", \"Attack2\", \"Attack3\", \"Attack4\", \"Attack5\", \"Attack6\", \"Attack7\", \"Attack8\"]))"
   ]
  },
  {
   "cell_type": "code",
   "execution_count": 28,
   "id": "0844b348",
   "metadata": {},
   "outputs": [
    {
     "name": "stdout",
     "output_type": "stream",
     "text": [
      "📊 다중 분류 AUC Score: 1.0000\n"
     ]
    }
   ],
   "source": [
    "from sklearn.metrics import roc_auc_score\n",
    "\n",
    "# One-vs-All AUC 계산\n",
    "auc_score = roc_auc_score(y_test_onehot, y_pred_probs, multi_class='ovr')\n",
    "print(f\"📊 다중 분류 AUC Score: {auc_score:.4f}\")"
   ]
  },
  {
   "cell_type": "code",
   "execution_count": 29,
   "id": "3ff46b18",
   "metadata": {},
   "outputs": [
    {
     "name": "stderr",
     "output_type": "stream",
     "text": [
      "WARNING:absl:Function `_wrapped_model` contains input name(s) InputFeatures, InputLabels with unsupported characters which will be renamed to inputfeatures, inputlabels in the SavedModel.\n",
      "WARNING:absl:Found untraced functions such as _jit_compiled_convolution_op, _jit_compiled_convolution_op, _jit_compiled_convolution_op, _jit_compiled_convolution_op, _jit_compiled_convolution_op while saving (showing 5 of 6). These functions will not be directly callable after loading.\n"
     ]
    },
    {
     "name": "stdout",
     "output_type": "stream",
     "text": [
      "INFO:tensorflow:Assets written to: D:/model/cvae_model_saved\\assets\n"
     ]
    },
    {
     "name": "stderr",
     "output_type": "stream",
     "text": [
      "INFO:tensorflow:Assets written to: D:/model/cvae_model_saved\\assets\n"
     ]
    }
   ],
   "source": [
    "# 모델 저장 시 H5 포맷 대신 SavedModel 포맷 사용\n",
    "model.save('D:/model/cvae_model_saved', save_format='tf')\n"
   ]
  },
  {
   "cell_type": "code",
   "execution_count": null,
   "id": "b51d1fa8",
   "metadata": {},
   "outputs": [],
   "source": []
  },
  {
   "cell_type": "code",
   "execution_count": null,
   "id": "78557ce5",
   "metadata": {},
   "outputs": [],
   "source": []
  },
  {
   "cell_type": "code",
   "execution_count": null,
   "id": "3431e95e",
   "metadata": {},
   "outputs": [],
   "source": []
  },
  {
   "cell_type": "code",
   "execution_count": null,
   "id": "4f3e55a3",
   "metadata": {},
   "outputs": [],
   "source": []
  }
 ],
 "metadata": {
  "kernelspec": {
   "display_name": "myvenv",
   "language": "python",
   "name": "myenv"
  },
  "language_info": {
   "codemirror_mode": {
    "name": "ipython",
    "version": 3
   },
   "file_extension": ".py",
   "mimetype": "text/x-python",
   "name": "python",
   "nbconvert_exporter": "python",
   "pygments_lexer": "ipython3",
   "version": "3.9.18"
  }
 },
 "nbformat": 4,
 "nbformat_minor": 5
}
