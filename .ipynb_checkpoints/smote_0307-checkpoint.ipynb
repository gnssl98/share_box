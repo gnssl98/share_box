{
 "cells": [
  {
   "cell_type": "code",
   "execution_count": 1,
   "id": "19b34a00",
   "metadata": {},
   "outputs": [],
   "source": [
    "import pandas as pd\n",
    "\n",
    "df = pd.read_csv(\"D:/dataset/cleaned_improved_cicids2017.csv\")"
   ]
  },
  {
   "cell_type": "code",
   "execution_count": 2,
   "id": "d5c7eb34",
   "metadata": {},
   "outputs": [
    {
     "name": "stdout",
     "output_type": "stream",
     "text": [
      "   Protocol  Flow Duration  Total Fwd Packet  Total Bwd packets  \\\n",
      "0         0      119719148               231                  0   \n",
      "1        17       65511209                 6                  6   \n",
      "2        17      113976922               267                  0   \n",
      "3        17       67037196                 8                  8   \n",
      "4        17       68045057                 8                  8   \n",
      "\n",
      "   Total Length of Fwd Packet  Total Length of Bwd Packet  \\\n",
      "0                           0                           0   \n",
      "1                         288                         288   \n",
      "2                       20447                           0   \n",
      "3                         384                         384   \n",
      "4                         384                         384   \n",
      "\n",
      "   Fwd Packet Length Max  Fwd Packet Length Min  Fwd Packet Length Mean  \\\n",
      "0                      0                      0                0.000000   \n",
      "1                     48                     48               48.000000   \n",
      "2                    153                     37               76.580524   \n",
      "3                     48                     48               48.000000   \n",
      "4                     48                     48               48.000000   \n",
      "\n",
      "   Fwd Packet Length Std  ...  Active Max  Active Min   Idle Mean  \\\n",
      "0               0.000000  ...    22509459          17  12685486.0   \n",
      "1               0.000000  ...     1506210     1506210  64004884.0   \n",
      "2              44.140625  ...    10983883          14  25498178.0   \n",
      "3               0.000000  ...    11034681    11034681  55956316.0   \n",
      "4               0.000000  ...    11043596    11043596  56943904.0   \n",
      "\n",
      "       Idle Std  Idle Max  Idle Min  ICMP Code  ICMP Type  \\\n",
      "0  5.296658e+06  20694308   6499982          0          0   \n",
      "1  0.000000e+00  64004884  64004884          0          0   \n",
      "2  1.883305e+07  48523116   5463561          0          0   \n",
      "3  0.000000e+00  55956316  55956316          0          0   \n",
      "4  0.000000e+00  56943904  56943904          0          0   \n",
      "\n",
      "   Total TCP Flow Time  Label  \n",
      "0                    0      0  \n",
      "1                    0      0  \n",
      "2                    0      0  \n",
      "3                    0      0  \n",
      "4                    0      0  \n",
      "\n",
      "[5 rows x 83 columns]\n"
     ]
    }
   ],
   "source": [
    "# 이진분류\n",
    "df['Label'] = df['Label'].apply(lambda x: 0 if x == 'BENIGN' else 1)\n",
    "\n",
    "# 변경된 데이터프레임 확인\n",
    "print(df.head())"
   ]
  },
  {
   "cell_type": "code",
   "execution_count": 3,
   "id": "d91191e1",
   "metadata": {},
   "outputs": [
    {
     "data": {
      "text/plain": [
       "0    1594540\n",
       "1     505431\n",
       "Name: Label, dtype: int64"
      ]
     },
     "execution_count": 3,
     "metadata": {},
     "output_type": "execute_result"
    }
   ],
   "source": [
    "df['Label'].value_counts()"
   ]
  },
  {
   "cell_type": "code",
   "execution_count": 4,
   "id": "28bff2a1",
   "metadata": {},
   "outputs": [],
   "source": [
    "from imblearn.over_sampling import SMOTE\n",
    "from collections import Counter\n",
    "from sklearn.model_selection import train_test_split\n",
    "\n",
    "X = df.drop(columns=['Label'])  \n",
    "y = df['Label']  \n",
    "\n",
    "X_train, X_test, y_train, y_test = train_test_split(X, y, test_size=0.2, stratify=y, random_state=42)"
   ]
  },
  {
   "cell_type": "code",
   "execution_count": 5,
   "id": "4d754db7",
   "metadata": {},
   "outputs": [
    {
     "data": {
      "text/plain": [
       "0    318909\n",
       "1    101086\n",
       "Name: Label, dtype: int64"
      ]
     },
     "execution_count": 5,
     "metadata": {},
     "output_type": "execute_result"
    }
   ],
   "source": [
    "y_test.value_counts()"
   ]
  },
  {
   "cell_type": "code",
   "execution_count": 6,
   "id": "6521ca8d",
   "metadata": {},
   "outputs": [
    {
     "name": "stdout",
     "output_type": "stream",
     "text": [
      "Before SMOTE (Test Data): Counter({0: 318909, 1: 101086})\n",
      "After SMOTE (Test Data): Counter({0: 318909, 1: 159454})\n"
     ]
    }
   ],
   "source": [
    "from imblearn.over_sampling import SMOTE\n",
    "from collections import Counter\n",
    "\n",
    "# ✅ 기존 Test 데이터의 클래스 비율 확인\n",
    "print(\"Before SMOTE (Test Data):\", Counter(y_test))\n",
    "\n",
    "# ✅ SMOTE 적용 (공격 데이터(1) 샘플 수를 증가)\n",
    "smote = SMOTE(sampling_strategy=0.5, random_state=42)  # 1을 0의 50%까지 증가\n",
    "X_test_resampled, y_test_resampled = smote.fit_resample(X_test, y_test)\n",
    "\n",
    "# ✅ SMOTE 적용 후 클래스 비율 확인\n",
    "print(\"After SMOTE (Test Data):\", Counter(y_test_resampled))\n"
   ]
  },
  {
   "cell_type": "code",
   "execution_count": 7,
   "id": "e9bb3fcb",
   "metadata": {},
   "outputs": [],
   "source": [
    "X_train = pd.concat([X_train, y_train])\n",
    "X_test = pd.concat([X_test,y_test])"
   ]
  },
  {
   "cell_type": "code",
   "execution_count": 11,
   "id": "a1c229a2",
   "metadata": {},
   "outputs": [
    {
     "data": {
      "text/plain": [
       "(839990, 83)"
      ]
     },
     "execution_count": 11,
     "metadata": {},
     "output_type": "execute_result"
    }
   ],
   "source": [
    "X_test.shape\n"
   ]
  },
  {
   "cell_type": "code",
   "execution_count": 12,
   "id": "722586a5",
   "metadata": {},
   "outputs": [
    {
     "data": {
      "text/plain": [
       "(3359952, 83)"
      ]
     },
     "execution_count": 12,
     "metadata": {},
     "output_type": "execute_result"
    }
   ],
   "source": [
    "X_train.shape"
   ]
  },
  {
   "cell_type": "code",
   "execution_count": 8,
   "id": "8bea80e4",
   "metadata": {},
   "outputs": [],
   "source": [
    "X_test.to_csv(\"D:/dataset/0219_Paper_Dataset/train_smotX_train.shapee.csv\", index=False)\n",
    "X_train.to_csv(\"D:/dataset/0219_Paper_Dataset/test_smote.csv\", index=False)"
   ]
  },
  {
   "cell_type": "code",
   "execution_count": null,
   "id": "e84a488f",
   "metadata": {},
   "outputs": [],
   "source": []
  }
 ],
 "metadata": {
  "kernelspec": {
   "display_name": "Python (<myvenv>)",
   "language": "python",
   "name": "myvenv"
  },
  "language_info": {
   "codemirror_mode": {
    "name": "ipython",
    "version": 3
   },
   "file_extension": ".py",
   "mimetype": "text/x-python",
   "name": "python",
   "nbconvert_exporter": "python",
   "pygments_lexer": "ipython3",
   "version": "3.9.18"
  }
 },
 "nbformat": 4,
 "nbformat_minor": 5
}
