{
 "cells": [
  {
   "cell_type": "code",
   "execution_count": 4,
   "id": "8777d497",
   "metadata": {},
   "outputs": [],
   "source": [
    "import tensorflow as tf\n",
    "from tensorflow.keras import layers, Model, Input\n",
    "import numpy as np\n",
    "from tensorflow.keras import backend as K\n",
    "\n",
    "# ✅ 클래스 개수 (정상 + 공격 유형 개수)\n",
    "num_classes = 9  # 정상(1) + 8개 공격\n",
    "\n",
    "# ✅ 잠재 차원 및 중간 차원 설정\n",
    "latent_dim = 10\n",
    "inter_dim = 20\n",
    "\n",
    "# ✅ 샘플링 함수 (재매개변수화 트릭 사용)\n",
    "def sampling(args):\n",
    "    z_mean, z_log_sigma = args\n",
    "    batch_size = tf.shape(z_mean)[0]\n",
    "    epsilon = K.random_normal(shape=(batch_size, latent_dim), mean=0., stddev=1.)\n",
    "    return z_mean + K.exp(0.5 * K.clip(z_log_sigma, -10, 10)) * epsilon\n",
    "\n",
    "# ✅ CVAE 손실 함수 (Gaussian MLP + Bernoulli MLP 반영)\n",
    "def cvae_loss(x, x_decoded_mean, z_mean, z_log_sigma, y_true, y_pred):\n",
    "    # Reconstruction Loss (Gaussian MLP 적용)\n",
    "    reconstruction_loss = K.mean(K.square(x - x_decoded_mean) + 1e-10)  # NaN 방지\n",
    "    \n",
    "    # KL Divergence (잠재 공간 학습 - Gaussian MLP)\n",
    "    kl_loss = -0.5 * K.sum(1 + K.clip(z_log_sigma, -10, 10) - K.square(z_mean) - K.exp(K.clip(z_log_sigma, -10, 10)), axis=-1)\n",
    "    kl_loss_weighted = kl_loss * 0.001  # KL 손실 가중치 적용\n",
    "\n",
    "    # Classification Loss (Bernoulli MLP 적용)\n",
    "    classification_loss = tf.keras.losses.categorical_crossentropy(y_true, y_pred)  # 다중 분류\n",
    "    \n",
    "    # 총 손실 (Gaussian + Bernoulli)\n",
    "    total_loss = K.mean(reconstruction_loss + kl_loss_weighted + classification_loss)\n",
    "    return total_loss\n",
    "\n",
    "# ✅ CVAE 모델 정의 (Gaussian MLP + Bernoulli MLP)\n",
    "def cvae(X, y):\n",
    "    features = X.shape[1]  # 특징 수\n",
    "    input_x = Input(shape=(features,), name='InputFeatures')\n",
    "    input_y = Input(shape=(num_classes,), name='InputLabels')  # 라벨 추가\n",
    "\n",
    "    # CNN 기반 인코더\n",
    "    reshaped_input = layers.Reshape((features, 1))(input_x)\n",
    "    h = layers.Conv1D(filters=64, kernel_size=3, activation=\"relu\", padding='same')(reshaped_input)\n",
    "    h = layers.Conv1D(filters=32, kernel_size=3, activation=\"relu\", padding='same')(h)\n",
    "    h = layers.Conv1D(filters=16, kernel_size=3, activation=\"relu\", padding='same')(h)\n",
    "    h = layers.Flatten()(h)\n",
    "    h = layers.Concatenate()([h, input_y])  # 라벨과 결합\n",
    "    h = layers.Dense(inter_dim, activation='relu')(h)\n",
    "\n",
    "    # Gaussian MLP (잠재 공간)\n",
    "    z_mean = layers.Dense(latent_dim, name='z_mean')(h)\n",
    "    z_log_sigma = layers.Dense(latent_dim, name='z_log_sigma')(h)\n",
    "    z = layers.Lambda(sampling, name='z')([z_mean, z_log_sigma])\n",
    "\n",
    "    # 디코더 (Gaussian MLP)\n",
    "    decoder_input = layers.Concatenate()([z, input_y])  # 잠재 벡터 + 라벨\n",
    "    decoder1 = layers.Dense(features * inter_dim)(decoder_input)\n",
    "    decoder1 = layers.Reshape((features, inter_dim))(decoder1)\n",
    "    decoder1 = layers.Conv1DTranspose(filters=16, kernel_size=3, activation=\"relu\", padding='same')(decoder1)\n",
    "    decoder1 = layers.Conv1DTranspose(filters=32, kernel_size=3, activation=\"relu\", padding='same')(decoder1)\n",
    "    decoder1 = layers.Conv1DTranspose(filters=64, kernel_size=3, activation=\"relu\", padding='same')(decoder1)\n",
    "    decoder1 = layers.Flatten()(decoder1)\n",
    "    x_decoded_mean = layers.Dense(features, activation='sigmoid', name='ReconstructedOutput')(decoder1)  # 최종 복원\n",
    "\n",
    "    # Bernoulli MLP (다중 분류)\n",
    "    classification_output = layers.Dense(num_classes, activation='softmax', name='ClassificationOutput')(h)\n",
    "\n",
    "    # 모델 생성\n",
    "    model = Model([input_x, input_y], [x_decoded_mean, classification_output])\n",
    "    model.add_loss(cvae_loss(input_x, x_decoded_mean, z_mean, z_log_sigma, input_y, classification_output))\n",
    "\n",
    "    return model\n"
   ]
  },
  {
   "cell_type": "code",
   "execution_count": 8,
   "id": "bf3c1820",
   "metadata": {},
   "outputs": [],
   "source": [
    "import tensorflow as tf\n",
    "\n",
    "class SamplingLayer(tf.keras.layers.Layer):\n",
    "    def call(self, inputs):\n",
    "        z_mean, z_log_var = inputs\n",
    "        batch = tf.shape(z_mean)[0]\n",
    "        dim = tf.shape(z_mean)[1]\n",
    "        epsilon = tf.keras.backend.random_normal(shape=(batch, dim))\n",
    "        return z_mean + tf.exp(0.5 * z_log_var) * epsilon\n"
   ]
  },
  {
   "cell_type": "code",
   "execution_count": 9,
   "id": "92d5c3ee",
   "metadata": {},
   "outputs": [
    {
     "ename": "SystemError",
     "evalue": "Exception encountered when calling layer \"z\" (type Lambda).\n\nunknown opcode\n\nCall arguments received by layer \"z\" (type Lambda):\n  • inputs=['tf.Tensor(shape=(None, 10), dtype=float32)', 'tf.Tensor(shape=(None, 10), dtype=float32)']\n  • mask=None\n  • training=None",
     "output_type": "error",
     "traceback": [
      "\u001b[1;31m---------------------------------------------------------------------------\u001b[0m",
      "\u001b[1;31mSystemError\u001b[0m                               Traceback (most recent call last)",
      "Cell \u001b[1;32mIn[9], line 1\u001b[0m\n\u001b[1;32m----> 1\u001b[0m loaded_model \u001b[38;5;241m=\u001b[39m \u001b[43mtf\u001b[49m\u001b[38;5;241;43m.\u001b[39;49m\u001b[43mkeras\u001b[49m\u001b[38;5;241;43m.\u001b[39;49m\u001b[43mmodels\u001b[49m\u001b[38;5;241;43m.\u001b[39;49m\u001b[43mload_model\u001b[49m\u001b[43m(\u001b[49m\u001b[38;5;124;43m'\u001b[39;49m\u001b[38;5;124;43mD:/model/cvae_model_saved\u001b[39;49m\u001b[38;5;124;43m'\u001b[39;49m\u001b[43m,\u001b[49m\n\u001b[0;32m      2\u001b[0m \u001b[43m                                           \u001b[49m\u001b[43mcustom_objects\u001b[49m\u001b[38;5;241;43m=\u001b[39;49m\u001b[43m{\u001b[49m\u001b[38;5;124;43m'\u001b[39;49m\u001b[38;5;124;43mSamplingLayer\u001b[39;49m\u001b[38;5;124;43m'\u001b[39;49m\u001b[43m:\u001b[49m\u001b[43m \u001b[49m\u001b[43mSamplingLayer\u001b[49m\u001b[43m}\u001b[49m\u001b[43m)\u001b[49m\n\u001b[0;32m      3\u001b[0m loaded_model\u001b[38;5;241m.\u001b[39msummary()\n",
      "File \u001b[1;32m~\\anaconda3\\envs\\myvenv\\lib\\site-packages\\keras\\utils\\traceback_utils.py:70\u001b[0m, in \u001b[0;36mfilter_traceback.<locals>.error_handler\u001b[1;34m(*args, **kwargs)\u001b[0m\n\u001b[0;32m     67\u001b[0m     filtered_tb \u001b[38;5;241m=\u001b[39m _process_traceback_frames(e\u001b[38;5;241m.\u001b[39m__traceback__)\n\u001b[0;32m     68\u001b[0m     \u001b[38;5;66;03m# To get the full stack trace, call:\u001b[39;00m\n\u001b[0;32m     69\u001b[0m     \u001b[38;5;66;03m# `tf.debugging.disable_traceback_filtering()`\u001b[39;00m\n\u001b[1;32m---> 70\u001b[0m     \u001b[38;5;28;01mraise\u001b[39;00m e\u001b[38;5;241m.\u001b[39mwith_traceback(filtered_tb) \u001b[38;5;28;01mfrom\u001b[39;00m \u001b[38;5;28;01mNone\u001b[39;00m\n\u001b[0;32m     71\u001b[0m \u001b[38;5;28;01mfinally\u001b[39;00m:\n\u001b[0;32m     72\u001b[0m     \u001b[38;5;28;01mdel\u001b[39;00m filtered_tb\n",
      "File \u001b[1;32mC:/Users/gnssl/AppData/Local/Temp/ipykernel_18240/3431527473.py:15\u001b[0m, in \u001b[0;36msampling\u001b[1;34m(args)\u001b[0m\n",
      "\u001b[1;31mSystemError\u001b[0m: Exception encountered when calling layer \"z\" (type Lambda).\n\nunknown opcode\n\nCall arguments received by layer \"z\" (type Lambda):\n  • inputs=['tf.Tensor(shape=(None, 10), dtype=float32)', 'tf.Tensor(shape=(None, 10), dtype=float32)']\n  • mask=None\n  • training=None"
     ]
    }
   ],
   "source": [
    "loaded_model = tf.keras.models.load_model('D:/model/cvae_model_saved',\n",
    "                                           custom_objects={'SamplingLayer': SamplingLayer})\n",
    "loaded_model.summary()\n"
   ]
  },
  {
   "cell_type": "code",
   "execution_count": null,
   "id": "48f5579c",
   "metadata": {},
   "outputs": [],
   "source": []
  }
 ],
 "metadata": {
  "kernelspec": {
   "display_name": "Python (<myvenv>)",
   "language": "python",
   "name": "myvenv"
  },
  "language_info": {
   "codemirror_mode": {
    "name": "ipython",
    "version": 3
   },
   "file_extension": ".py",
   "mimetype": "text/x-python",
   "name": "python",
   "nbconvert_exporter": "python",
   "pygments_lexer": "ipython3",
   "version": "3.9.18"
  }
 },
 "nbformat": 4,
 "nbformat_minor": 5
}
